{
 "cells": [
  {
   "cell_type": "markdown",
   "metadata": {},
   "source": [
    "Resources Used\n",
    "- wget.download('https://tensorflow-object-detection-api-tutorial.readthedocs.io/en/latest/_downloads/da4babe668a8afb093cc7776d7e630f3/generate_tfrecord.py')\n",
    "- Setup https://tensorflow-object-detection-api-tutorial.readthedocs.io/en/latest/install.html"
   ]
  },
  {
   "cell_type": "markdown",
   "metadata": {},
   "source": [
    "# 0. Setup Paths"
   ]
  },
  {
   "cell_type": "code",
   "execution_count": 1,
   "metadata": {},
   "outputs": [],
   "source": [
    "import os\n",
    "import pandas as pd\n",
    "\n",
    "WORKSPACE_PATH = 'Tensorflow/workspace'\n",
    "SCRIPTS_PATH = 'Tensorflow/scripts'\n",
    "APIMODEL_PATH = 'Tensorflow/models'\n",
    "ANNOTATION_PATH = WORKSPACE_PATH+'/annotations'\n",
    "IMAGE_PATH = WORKSPACE_PATH+'/images'\n",
    "MODEL_PATH = WORKSPACE_PATH+'/models'\n",
    "PRETRAINED_MODEL_PATH = WORKSPACE_PATH+'/pre-trained-models'\n",
    "CONFIG_PATH = MODEL_PATH+'/my_ssd_mobnet/pipeline.config'\n",
    "CHECKPOINT_PATH = MODEL_PATH+'/my_ssd_mobnet/'"
   ]
  },
  {
   "cell_type": "markdown",
   "metadata": {},
   "source": [
    "# 1. Create Label Map"
   ]
  },
  {
   "cell_type": "code",
   "execution_count": 2,
   "metadata": {},
   "outputs": [],
   "source": [
    "labels = [\n",
    "    {'name': 'about', 'id': 1},\n",
    "    {'name': 'drink', 'id': 2},\n",
    "    {'name': 'goodbye', 'id': 3},\n",
    "    {'name': 'here', 'id': 4},\n",
    "    {'name': 'just', 'id': 5},\n",
    "    {'name': 'no', 'id': 6},\n",
    "    {'name': 'relaxing', 'id': 7},\n",
    "    {'name': 'sleep', 'id': 8},\n",
    "    {'name': 'travel', 'id': 9},\n",
    "    {'name': 'you', 'id': 10},\n",
    "    {'name': 'bad', 'id': 11},\n",
    "    {'name': 'eat', 'id': 12},\n",
    "    {'name': 'hello', 'id': 13},\n",
    "    {'name': 'home', 'id': 14},\n",
    "    {'name': 'learn', 'id': 15},\n",
    "    {'name': 'not', 'id': 16},\n",
    "    {'name': 'same', 'id': 17},\n",
    "    {'name': 'sorry', 'id': 18},\n",
    "    {'name': 'with', 'id': 19},\n",
    "    {'name': 'busy', 'id': 20},\n",
    "    {'name': 'family', 'id': 21},\n",
    "    {'name': 'help', 'id': 22},\n",
    "    {'name': 'how', 'id': 23},\n",
    "    {'name': 'love', 'id': 24},\n",
    "    {'name': 'play', 'id': 25},\n",
    "    {'name': 'school', 'id': 26},\n",
    "    {'name': 'thankyou', 'id': 27},\n",
    "    {'name': 'work', 'id': 28}\n",
    "]\n",
    "\n",
    "\n",
    "with open(os.path.join(ANNOTATION_PATH ,'label_map.pbtxt'), 'w') as f:\n",
    "    for label in labels:\n",
    "        f.write('item { \\n')\n",
    "        f.write('\\tname:\\'{}\\'\\n'.format(label['name']))\n",
    "        f.write('\\tid:{}\\n'.format(label['id']))\n",
    "        f.write('}\\n')"
   ]
  },
  {
   "cell_type": "markdown",
   "metadata": {},
   "source": [
    "# 2. Create TF records"
   ]
  },
  {
   "cell_type": "code",
   "execution_count": 3,
   "metadata": {
    "scrolled": true
   },
   "outputs": [
    {
     "name": "stdout",
     "output_type": "stream",
     "text": [
      "2024-04-01 01:45:40.194878: E external/local_xla/xla/stream_executor/cuda/cuda_dnn.cc:9261] Unable to register cuDNN factory: Attempting to register factory for plugin cuDNN when one has already been registered\n",
      "2024-04-01 01:45:40.194932: E external/local_xla/xla/stream_executor/cuda/cuda_fft.cc:607] Unable to register cuFFT factory: Attempting to register factory for plugin cuFFT when one has already been registered\n",
      "2024-04-01 01:45:40.195716: E external/local_xla/xla/stream_executor/cuda/cuda_blas.cc:1515] Unable to register cuBLAS factory: Attempting to register factory for plugin cuBLAS when one has already been registered\n",
      "Successfully created the TFRecord file: Tensorflow/workspace/annotations/train.record\n",
      "2024-04-01 01:45:45.608343: E external/local_xla/xla/stream_executor/cuda/cuda_dnn.cc:9261] Unable to register cuDNN factory: Attempting to register factory for plugin cuDNN when one has already been registered\n",
      "2024-04-01 01:45:45.608391: E external/local_xla/xla/stream_executor/cuda/cuda_fft.cc:607] Unable to register cuFFT factory: Attempting to register factory for plugin cuFFT when one has already been registered\n",
      "2024-04-01 01:45:45.609228: E external/local_xla/xla/stream_executor/cuda/cuda_blas.cc:1515] Unable to register cuBLAS factory: Attempting to register factory for plugin cuBLAS when one has already been registered\n",
      "Successfully created the TFRecord file: Tensorflow/workspace/annotations/test.record\n"
     ]
    }
   ],
   "source": [
    "\n",
    "!../dependency/bin/python3 {SCRIPTS_PATH + '/generate_tfrecord.py'} -x {IMAGE_PATH + '/train'} -l {ANNOTATION_PATH + '/label_map.pbtxt'} -o {ANNOTATION_PATH + '/train.record'}\n",
    "!../dependency/bin/python3 {SCRIPTS_PATH + '/generate_tfrecord.py'} -x{IMAGE_PATH + '/test'} -l {ANNOTATION_PATH + '/label_map.pbtxt'} -o {ANNOTATION_PATH + '/test.record'}"
   ]
  },
  {
   "cell_type": "markdown",
   "metadata": {},
   "source": [
    "# 3. Download TF Models Pretrained Models from Tensorflow Model Zoo"
   ]
  },
  {
   "cell_type": "code",
   "execution_count": 3,
   "metadata": {},
   "outputs": [
    {
     "name": "stdout",
     "output_type": "stream",
     "text": [
      "zsh:1: no such file or directory: /github.com/tensorflow/models\r\n",
      "Cloning into 'https'...\r\n",
      "ssh: Could not resolve hostname https: Temporary failure in name resolution\r",
      "\r\n",
      "fatal: Could not read from remote repository.\r\n",
      "\r\n",
      "Please make sure you have the correct access rights\r\n",
      "and the repository exists.\r\n"
     ]
    }
   ],
   "source": [
    "!git clone https://github.com/tensorflow/models"
   ]
  },
  {
   "cell_type": "code",
   "execution_count": 20,
   "metadata": {},
   "outputs": [],
   "source": [
    "#wget.download('http://download.tensorflow.org/models/object_detection/tf2/20200711/ssd_mobilenet_v2_fpnlite_320x320_coco17_tpu-8.tar.gz')\n",
    "#!mv ssd_mobilenet_v2_fpnlite_320x320_coco17_tpu-8.tar.gz {PRETRAINED_MODEL_PATH}\n",
    "#!cd {PRETRAINED_MODEL_PATH} && tar -zxvf ssd_mobilenet_v2_fpnlite_320x320_coco17_tpu-8.tar.gz"
   ]
  },
  {
   "cell_type": "markdown",
   "metadata": {},
   "source": [
    "# 4. Copy Model Config to Training Folder"
   ]
  },
  {
   "cell_type": "code",
   "execution_count": 3,
   "metadata": {},
   "outputs": [],
   "source": [
    "CUSTOM_MODEL_NAME = 'my_ssd_mobnet' "
   ]
  },
  {
   "cell_type": "code",
   "execution_count": 39,
   "metadata": {},
   "outputs": [
    {
     "name": "stdout",
     "output_type": "stream",
     "text": [
      "mkdir: cannot create directory ‘Tensorflow/workspace/models/my_ssd_mobnet’: File exists\r\n"
     ]
    }
   ],
   "source": [
    "!mkdir {'Tensorflow/workspace/models/'+CUSTOM_MODEL_NAME}\n",
    "!cp {PRETRAINED_MODEL_PATH+'/ssd_mobilenet_v2_fpnlite_320x320_coco17_tpu-8/pipeline.config'} {MODEL_PATH+'/'+CUSTOM_MODEL_NAME}"
   ]
  },
  {
   "cell_type": "markdown",
   "metadata": {},
   "source": [
    "# 5. Update Config For Transfer Learning"
   ]
  },
  {
   "cell_type": "code",
   "execution_count": 4,
   "metadata": {},
   "outputs": [
    {
     "name": "stderr",
     "output_type": "stream",
     "text": [
      "2024-04-01 16:38:25.554135: E external/local_xla/xla/stream_executor/cuda/cuda_dnn.cc:9261] Unable to register cuDNN factory: Attempting to register factory for plugin cuDNN when one has already been registered\n",
      "2024-04-01 16:38:25.554200: E external/local_xla/xla/stream_executor/cuda/cuda_fft.cc:607] Unable to register cuFFT factory: Attempting to register factory for plugin cuFFT when one has already been registered\n",
      "2024-04-01 16:38:25.589871: E external/local_xla/xla/stream_executor/cuda/cuda_blas.cc:1515] Unable to register cuBLAS factory: Attempting to register factory for plugin cuBLAS when one has already been registered\n",
      "2024-04-01 16:38:25.669880: I tensorflow/core/platform/cpu_feature_guard.cc:182] This TensorFlow binary is optimized to use available CPU instructions in performance-critical operations.\n",
      "To enable the following instructions: AVX2 FMA, in other operations, rebuild TensorFlow with the appropriate compiler flags.\n",
      "2024-04-01 16:38:26.884343: W tensorflow/compiler/tf2tensorrt/utils/py_utils.cc:38] TF-TRT Warning: Could not find TensorRT\n"
     ]
    }
   ],
   "source": [
    "import tensorflow as tf\n",
    "from object_detection.utils import config_util\n",
    "from object_detection.protos import pipeline_pb2\n",
    "from google.protobuf import text_format"
   ]
  },
  {
   "cell_type": "code",
   "execution_count": 5,
   "metadata": {},
   "outputs": [],
   "source": [
    "CONFIG_PATH = MODEL_PATH+'/'+CUSTOM_MODEL_NAME+'/pipeline.config'"
   ]
  },
  {
   "cell_type": "code",
   "execution_count": 6,
   "metadata": {},
   "outputs": [],
   "source": [
    "config = config_util.get_configs_from_pipeline_file(CONFIG_PATH)"
   ]
  },
  {
   "cell_type": "code",
   "execution_count": 43,
   "metadata": {},
   "outputs": [
    {
     "data": {
      "text/plain": [
       "{'model': ssd {\n",
       "   num_classes: 90\n",
       "   image_resizer {\n",
       "     fixed_shape_resizer {\n",
       "       height: 320\n",
       "       width: 320\n",
       "     }\n",
       "   }\n",
       "   feature_extractor {\n",
       "     type: \"ssd_mobilenet_v2_fpn_keras\"\n",
       "     depth_multiplier: 1.0\n",
       "     min_depth: 16\n",
       "     conv_hyperparams {\n",
       "       regularizer {\n",
       "         l2_regularizer {\n",
       "           weight: 4e-05\n",
       "         }\n",
       "       }\n",
       "       initializer {\n",
       "         random_normal_initializer {\n",
       "           mean: 0.0\n",
       "           stddev: 0.01\n",
       "         }\n",
       "       }\n",
       "       activation: RELU_6\n",
       "       batch_norm {\n",
       "         decay: 0.997\n",
       "         scale: true\n",
       "         epsilon: 0.001\n",
       "       }\n",
       "     }\n",
       "     use_depthwise: true\n",
       "     override_base_feature_extractor_hyperparams: true\n",
       "     fpn {\n",
       "       min_level: 3\n",
       "       max_level: 7\n",
       "       additional_layer_depth: 128\n",
       "     }\n",
       "   }\n",
       "   box_coder {\n",
       "     faster_rcnn_box_coder {\n",
       "       y_scale: 10.0\n",
       "       x_scale: 10.0\n",
       "       height_scale: 5.0\n",
       "       width_scale: 5.0\n",
       "     }\n",
       "   }\n",
       "   matcher {\n",
       "     argmax_matcher {\n",
       "       matched_threshold: 0.5\n",
       "       unmatched_threshold: 0.5\n",
       "       ignore_thresholds: false\n",
       "       negatives_lower_than_unmatched: true\n",
       "       force_match_for_each_row: true\n",
       "       use_matmul_gather: true\n",
       "     }\n",
       "   }\n",
       "   similarity_calculator {\n",
       "     iou_similarity {\n",
       "     }\n",
       "   }\n",
       "   box_predictor {\n",
       "     weight_shared_convolutional_box_predictor {\n",
       "       conv_hyperparams {\n",
       "         regularizer {\n",
       "           l2_regularizer {\n",
       "             weight: 4e-05\n",
       "           }\n",
       "         }\n",
       "         initializer {\n",
       "           random_normal_initializer {\n",
       "             mean: 0.0\n",
       "             stddev: 0.01\n",
       "           }\n",
       "         }\n",
       "         activation: RELU_6\n",
       "         batch_norm {\n",
       "           decay: 0.997\n",
       "           scale: true\n",
       "           epsilon: 0.001\n",
       "         }\n",
       "       }\n",
       "       depth: 128\n",
       "       num_layers_before_predictor: 4\n",
       "       kernel_size: 3\n",
       "       class_prediction_bias_init: -4.6\n",
       "       share_prediction_tower: true\n",
       "       use_depthwise: true\n",
       "     }\n",
       "   }\n",
       "   anchor_generator {\n",
       "     multiscale_anchor_generator {\n",
       "       min_level: 3\n",
       "       max_level: 7\n",
       "       anchor_scale: 4.0\n",
       "       aspect_ratios: 1.0\n",
       "       aspect_ratios: 2.0\n",
       "       aspect_ratios: 0.5\n",
       "       scales_per_octave: 2\n",
       "     }\n",
       "   }\n",
       "   post_processing {\n",
       "     batch_non_max_suppression {\n",
       "       score_threshold: 1e-08\n",
       "       iou_threshold: 0.6\n",
       "       max_detections_per_class: 100\n",
       "       max_total_detections: 100\n",
       "       use_static_shapes: false\n",
       "     }\n",
       "     score_converter: SIGMOID\n",
       "   }\n",
       "   normalize_loss_by_num_matches: true\n",
       "   loss {\n",
       "     localization_loss {\n",
       "       weighted_smooth_l1 {\n",
       "       }\n",
       "     }\n",
       "     classification_loss {\n",
       "       weighted_sigmoid_focal {\n",
       "         gamma: 2.0\n",
       "         alpha: 0.25\n",
       "       }\n",
       "     }\n",
       "     classification_weight: 1.0\n",
       "     localization_weight: 1.0\n",
       "   }\n",
       "   encode_background_as_zeros: true\n",
       "   normalize_loc_loss_by_codesize: true\n",
       "   inplace_batchnorm_update: true\n",
       "   freeze_batchnorm: false\n",
       " },\n",
       " 'train_config': batch_size: 128\n",
       " data_augmentation_options {\n",
       "   random_horizontal_flip {\n",
       "   }\n",
       " }\n",
       " data_augmentation_options {\n",
       "   random_crop_image {\n",
       "     min_object_covered: 0.0\n",
       "     min_aspect_ratio: 0.75\n",
       "     max_aspect_ratio: 3.0\n",
       "     min_area: 0.75\n",
       "     max_area: 1.0\n",
       "     overlap_thresh: 0.0\n",
       "   }\n",
       " }\n",
       " sync_replicas: true\n",
       " optimizer {\n",
       "   momentum_optimizer {\n",
       "     learning_rate {\n",
       "       cosine_decay_learning_rate {\n",
       "         learning_rate_base: 0.08\n",
       "         total_steps: 50000\n",
       "         warmup_learning_rate: 0.026666\n",
       "         warmup_steps: 1000\n",
       "       }\n",
       "     }\n",
       "     momentum_optimizer_value: 0.9\n",
       "   }\n",
       "   use_moving_average: false\n",
       " }\n",
       " fine_tune_checkpoint: \"PATH_TO_BE_CONFIGURED\"\n",
       " num_steps: 50000\n",
       " startup_delay_steps: 0.0\n",
       " replicas_to_aggregate: 8\n",
       " max_number_of_boxes: 100\n",
       " unpad_groundtruth_tensors: false\n",
       " fine_tune_checkpoint_type: \"classification\"\n",
       " fine_tune_checkpoint_version: V2,\n",
       " 'train_input_config': label_map_path: \"PATH_TO_BE_CONFIGURED\"\n",
       " tf_record_input_reader {\n",
       "   input_path: \"PATH_TO_BE_CONFIGURED\"\n",
       " },\n",
       " 'eval_config': metrics_set: \"coco_detection_metrics\"\n",
       " use_moving_averages: false,\n",
       " 'eval_input_configs': [label_map_path: \"PATH_TO_BE_CONFIGURED\"\n",
       " shuffle: false\n",
       " num_epochs: 1\n",
       " tf_record_input_reader {\n",
       "   input_path: \"PATH_TO_BE_CONFIGURED\"\n",
       " }\n",
       " ],\n",
       " 'eval_input_config': label_map_path: \"PATH_TO_BE_CONFIGURED\"\n",
       " shuffle: false\n",
       " num_epochs: 1\n",
       " tf_record_input_reader {\n",
       "   input_path: \"PATH_TO_BE_CONFIGURED\"\n",
       " }}"
      ]
     },
     "execution_count": 43,
     "metadata": {},
     "output_type": "execute_result"
    }
   ],
   "source": [
    "config"
   ]
  },
  {
   "cell_type": "code",
   "execution_count": 8,
   "metadata": {},
   "outputs": [],
   "source": [
    "pipeline_config = pipeline_pb2.TrainEvalPipelineConfig()\n",
    "with tf.io.gfile.GFile(CONFIG_PATH, \"r\") as f:                                                                                                                                                                                                                     \n",
    "    proto_str = f.read()                                                                                                                                                                                                                                          \n",
    "    text_format.Merge(proto_str, pipeline_config)  "
   ]
  },
  {
   "cell_type": "code",
   "execution_count": 9,
   "metadata": {},
   "outputs": [],
   "source": [
    "pipeline_config.model.ssd.num_classes = len(labels)\n",
    "pipeline_config.train_config.batch_size = 4\n",
    "pipeline_config.train_config.fine_tune_checkpoint = PRETRAINED_MODEL_PATH+'/ssd_mobilenet_v2_fpnlite_320x320_coco17_tpu-8/checkpoint/ckpt-0'\n",
    "pipeline_config.train_config.fine_tune_checkpoint_type = \"detection\"\n",
    "pipeline_config.train_input_reader.label_map_path= ANNOTATION_PATH + '/label_map.pbtxt'\n",
    "pipeline_config.train_input_reader.tf_record_input_reader.input_path[:] = [ANNOTATION_PATH + '/train.record']\n",
    "pipeline_config.eval_input_reader[0].label_map_path = ANNOTATION_PATH + '/label_map.pbtxt'\n",
    "pipeline_config.eval_input_reader[0].tf_record_input_reader.input_path[:] = [ANNOTATION_PATH + '/test.record']"
   ]
  },
  {
   "cell_type": "code",
   "execution_count": 33,
   "metadata": {},
   "outputs": [
    {
     "data": {
      "text/plain": [
       "{'model': ssd {\n",
       "   num_classes: 28\n",
       "   image_resizer {\n",
       "     fixed_shape_resizer {\n",
       "       height: 320\n",
       "       width: 320\n",
       "     }\n",
       "   }\n",
       "   feature_extractor {\n",
       "     type: \"ssd_mobilenet_v2_fpn_keras\"\n",
       "     depth_multiplier: 1.0\n",
       "     min_depth: 16\n",
       "     conv_hyperparams {\n",
       "       regularizer {\n",
       "         l2_regularizer {\n",
       "           weight: 4e-05\n",
       "         }\n",
       "       }\n",
       "       initializer {\n",
       "         random_normal_initializer {\n",
       "           mean: 0.0\n",
       "           stddev: 0.01\n",
       "         }\n",
       "       }\n",
       "       activation: RELU_6\n",
       "       batch_norm {\n",
       "         decay: 0.997\n",
       "         scale: true\n",
       "         epsilon: 0.001\n",
       "       }\n",
       "     }\n",
       "     use_depthwise: true\n",
       "     override_base_feature_extractor_hyperparams: true\n",
       "     fpn {\n",
       "       min_level: 3\n",
       "       max_level: 7\n",
       "       additional_layer_depth: 128\n",
       "     }\n",
       "   }\n",
       "   box_coder {\n",
       "     faster_rcnn_box_coder {\n",
       "       y_scale: 10.0\n",
       "       x_scale: 10.0\n",
       "       height_scale: 5.0\n",
       "       width_scale: 5.0\n",
       "     }\n",
       "   }\n",
       "   matcher {\n",
       "     argmax_matcher {\n",
       "       matched_threshold: 0.5\n",
       "       unmatched_threshold: 0.5\n",
       "       ignore_thresholds: false\n",
       "       negatives_lower_than_unmatched: true\n",
       "       force_match_for_each_row: true\n",
       "       use_matmul_gather: true\n",
       "     }\n",
       "   }\n",
       "   similarity_calculator {\n",
       "     iou_similarity {\n",
       "     }\n",
       "   }\n",
       "   box_predictor {\n",
       "     weight_shared_convolutional_box_predictor {\n",
       "       conv_hyperparams {\n",
       "         regularizer {\n",
       "           l2_regularizer {\n",
       "             weight: 4e-05\n",
       "           }\n",
       "         }\n",
       "         initializer {\n",
       "           random_normal_initializer {\n",
       "             mean: 0.0\n",
       "             stddev: 0.01\n",
       "           }\n",
       "         }\n",
       "         activation: RELU_6\n",
       "         batch_norm {\n",
       "           decay: 0.997\n",
       "           scale: true\n",
       "           epsilon: 0.001\n",
       "         }\n",
       "       }\n",
       "       depth: 128\n",
       "       num_layers_before_predictor: 4\n",
       "       kernel_size: 3\n",
       "       class_prediction_bias_init: -4.6\n",
       "       share_prediction_tower: true\n",
       "       use_depthwise: true\n",
       "     }\n",
       "   }\n",
       "   anchor_generator {\n",
       "     multiscale_anchor_generator {\n",
       "       min_level: 3\n",
       "       max_level: 7\n",
       "       anchor_scale: 4.0\n",
       "       aspect_ratios: 1.0\n",
       "       aspect_ratios: 2.0\n",
       "       aspect_ratios: 0.5\n",
       "       scales_per_octave: 2\n",
       "     }\n",
       "   }\n",
       "   post_processing {\n",
       "     batch_non_max_suppression {\n",
       "       score_threshold: 1e-08\n",
       "       iou_threshold: 0.6\n",
       "       max_detections_per_class: 100\n",
       "       max_total_detections: 100\n",
       "       use_static_shapes: false\n",
       "     }\n",
       "     score_converter: SIGMOID\n",
       "   }\n",
       "   normalize_loss_by_num_matches: true\n",
       "   loss {\n",
       "     localization_loss {\n",
       "       weighted_smooth_l1 {\n",
       "       }\n",
       "     }\n",
       "     classification_loss {\n",
       "       weighted_sigmoid_focal {\n",
       "         gamma: 2.0\n",
       "         alpha: 0.25\n",
       "       }\n",
       "     }\n",
       "     classification_weight: 1.0\n",
       "     localization_weight: 1.0\n",
       "   }\n",
       "   encode_background_as_zeros: true\n",
       "   normalize_loc_loss_by_codesize: true\n",
       "   inplace_batchnorm_update: true\n",
       "   freeze_batchnorm: false\n",
       " },\n",
       " 'train_config': batch_size: 4\n",
       " data_augmentation_options {\n",
       "   random_horizontal_flip {\n",
       "   }\n",
       " }\n",
       " data_augmentation_options {\n",
       "   random_crop_image {\n",
       "     min_object_covered: 0.0\n",
       "     min_aspect_ratio: 0.75\n",
       "     max_aspect_ratio: 3.0\n",
       "     min_area: 0.75\n",
       "     max_area: 1.0\n",
       "     overlap_thresh: 0.0\n",
       "   }\n",
       " }\n",
       " sync_replicas: true\n",
       " optimizer {\n",
       "   momentum_optimizer {\n",
       "     learning_rate {\n",
       "       cosine_decay_learning_rate {\n",
       "         learning_rate_base: 0.08\n",
       "         total_steps: 50000\n",
       "         warmup_learning_rate: 0.026666\n",
       "         warmup_steps: 1000\n",
       "       }\n",
       "     }\n",
       "     momentum_optimizer_value: 0.9\n",
       "   }\n",
       "   use_moving_average: false\n",
       " }\n",
       " fine_tune_checkpoint: \"/home/ashlesh/Desktop/amazon/college_project/detect/rtd/Tensorflow/workspace/models/my_ssd_mobnet/ckpt-17.index\"\n",
       " num_steps: 50000\n",
       " startup_delay_steps: 0.0\n",
       " replicas_to_aggregate: 8\n",
       " max_number_of_boxes: 100\n",
       " unpad_groundtruth_tensors: false\n",
       " fine_tune_checkpoint_type: \"detection\"\n",
       " fine_tune_checkpoint_version: V2,\n",
       " 'train_input_config': label_map_path: \"Tensorflow/workspace/annotations/label_map.pbtxt\"\n",
       " tf_record_input_reader {\n",
       "   input_path: \"Tensorflow/workspace/annotations/train.record\"\n",
       " },\n",
       " 'eval_config': metrics_set: \"coco_detection_metrics\"\n",
       " use_moving_averages: false,\n",
       " 'eval_input_configs': [label_map_path: \"Tensorflow/workspace/annotations/label_map.pbtxt\"\n",
       " shuffle: false\n",
       " num_epochs: 1\n",
       " tf_record_input_reader {\n",
       "   input_path: \"Tensorflow/workspace/annotations/test.record\"\n",
       " }\n",
       " ],\n",
       " 'eval_input_config': label_map_path: \"Tensorflow/workspace/annotations/label_map.pbtxt\"\n",
       " shuffle: false\n",
       " num_epochs: 1\n",
       " tf_record_input_reader {\n",
       "   input_path: \"Tensorflow/workspace/annotations/test.record\"\n",
       " }}"
      ]
     },
     "execution_count": 33,
     "metadata": {},
     "output_type": "execute_result"
    }
   ],
   "source": [
    "config"
   ]
  },
  {
   "cell_type": "code",
   "execution_count": 36,
   "metadata": {},
   "outputs": [],
   "source": [
    "config_text = text_format.MessageToString(pipeline_config)                                                                                                                                                                                                        \n",
    "with tf.io.gfile.GFile(CONFIG_PATH, \"wb\") as f:                                                                                                                                                                                                                     \n",
    "    f.write(config_text)   "
   ]
  },
  {
   "cell_type": "markdown",
   "metadata": {},
   "source": [
    "# 6. Train the model"
   ]
  },
  {
   "cell_type": "code",
   "execution_count": 37,
   "metadata": {},
   "outputs": [
    {
     "name": "stdout",
     "output_type": "stream",
     "text": [
      "python3 Tensorflow/models/research/object_detection/model_main_tf2.py --model_dir=Tensorflow/workspace/models/my_ssd_mobnet --pipeline_config_path=Tensorflow/workspace/models/my_ssd_mobnet/pipeline.config| --num_train_steps=5000\n"
     ]
    }
   ],
   "source": [
    "print(\"\"\"python3 {}/research/object_detection/model_main_tf2.py --model_dir={}/{} --pipeline_config_path={}/{}/pipeline.config --num_train_steps=5000\"\"\".format(APIMODEL_PATH, MODEL_PATH,CUSTOM_MODEL_NAME,MODEL_PATH,CUSTOM_MODEL_NAME))"
   ]
  },
  {
   "cell_type": "markdown",
   "metadata": {},
   "source": [
    "# 7. Load Train Model From Checkpoint"
   ]
  },
  {
   "cell_type": "code",
   "execution_count": 7,
   "metadata": {},
   "outputs": [],
   "source": [
    "import os\n",
    "from object_detection.utils import label_map_util\n",
    "from object_detection.utils import visualization_utils as viz_utils\n",
    "from object_detection.builders import model_builder"
   ]
  },
  {
   "cell_type": "code",
   "execution_count": 8,
   "metadata": {},
   "outputs": [],
   "source": [
    "# Load pipeline config and build a detection model\n",
    "configs = config_util.get_configs_from_pipeline_file(CONFIG_PATH)\n",
    "detection_model = model_builder.build(model_config=configs['model'], is_training=False)\n",
    "\n",
    "# Restore checkpoint\n",
    "ckpt = tf.compat.v2.train.Checkpoint(model=detection_model)\n",
    "ckpt.restore(os.path.join(CHECKPOINT_PATH, 'ckpt-17')).expect_partial()\n",
    "\n",
    "@tf.function\n",
    "def detect_fn(image):\n",
    "    image, shapes = detection_model.preprocess(image)\n",
    "    prediction_dict = detection_model.predict(image, shapes)\n",
    "    detections = detection_model.postprocess(prediction_dict, shapes)\n",
    "    return detections\n"
   ]
  },
  {
   "cell_type": "markdown",
   "metadata": {},
   "source": [
    "# 8. Detect in Real-Time"
   ]
  },
  {
   "cell_type": "code",
   "execution_count": 26,
   "metadata": {},
   "outputs": [],
   "source": [
    "import cv2 \n",
    "import numpy as np"
   ]
  },
  {
   "cell_type": "code",
   "execution_count": 27,
   "metadata": {},
   "outputs": [],
   "source": [
    "category_index = label_map_util.create_category_index_from_labelmap(ANNOTATION_PATH+'/label_map.pbtxt')"
   ]
  },
  {
   "cell_type": "code",
   "execution_count": 28,
   "metadata": {},
   "outputs": [],
   "source": [
    "# Setup capture\n",
    "cap = cv2.VideoCapture(0)\n",
    "width = int(cap.get(cv2.CAP_PROP_FRAME_WIDTH))\n",
    "height = int(cap.get(cv2.CAP_PROP_FRAME_HEIGHT))"
   ]
  },
  {
   "cell_type": "code",
   "execution_count": 25,
   "metadata": {},
   "outputs": [],
   "source": [
    "cap.release()"
   ]
  },
  {
   "cell_type": "code",
   "execution_count": 29,
   "metadata": {},
   "outputs": [
    {
     "ename": "InvalidArgumentError",
     "evalue": "Graph execution error:\n\nDetected at node WeightSharedConvolutionalBoxPredictor/WeightSharedConvolutionalClassHead/Reshape_9 defined at (most recent call last):\n  File \"/usr/lib/python3.11/runpy.py\", line 198, in _run_module_as_main\n\n  File \"/usr/lib/python3.11/runpy.py\", line 88, in _run_code\n\n  File \"/home/ashlesh/Desktop/amazon/college_project/detect/dependency/lib/python3.11/site-packages/ipykernel_launcher.py\", line 18, in <module>\n\n  File \"/home/ashlesh/Desktop/amazon/college_project/detect/dependency/lib/python3.11/site-packages/traitlets/config/application.py\", line 1075, in launch_instance\n\n  File \"/home/ashlesh/Desktop/amazon/college_project/detect/dependency/lib/python3.11/site-packages/ipykernel/kernelapp.py\", line 739, in start\n\n  File \"/home/ashlesh/Desktop/amazon/college_project/detect/dependency/lib/python3.11/site-packages/tornado/platform/asyncio.py\", line 205, in start\n\n  File \"/usr/lib/python3.11/asyncio/base_events.py\", line 607, in run_forever\n\n  File \"/usr/lib/python3.11/asyncio/base_events.py\", line 1922, in _run_once\n\n  File \"/usr/lib/python3.11/asyncio/events.py\", line 80, in _run\n\n  File \"/home/ashlesh/Desktop/amazon/college_project/detect/dependency/lib/python3.11/site-packages/ipykernel/kernelbase.py\", line 545, in dispatch_queue\n\n  File \"/home/ashlesh/Desktop/amazon/college_project/detect/dependency/lib/python3.11/site-packages/ipykernel/kernelbase.py\", line 534, in process_one\n\n  File \"/home/ashlesh/Desktop/amazon/college_project/detect/dependency/lib/python3.11/site-packages/ipykernel/kernelbase.py\", line 437, in dispatch_shell\n\n  File \"/home/ashlesh/Desktop/amazon/college_project/detect/dependency/lib/python3.11/site-packages/ipykernel/ipkernel.py\", line 359, in execute_request\n\n  File \"/home/ashlesh/Desktop/amazon/college_project/detect/dependency/lib/python3.11/site-packages/ipykernel/kernelbase.py\", line 778, in execute_request\n\n  File \"/home/ashlesh/Desktop/amazon/college_project/detect/dependency/lib/python3.11/site-packages/ipykernel/ipkernel.py\", line 446, in do_execute\n\n  File \"/home/ashlesh/Desktop/amazon/college_project/detect/dependency/lib/python3.11/site-packages/ipykernel/zmqshell.py\", line 549, in run_cell\n\n  File \"/home/ashlesh/Desktop/amazon/college_project/detect/dependency/lib/python3.11/site-packages/IPython/core/interactiveshell.py\", line 3075, in run_cell\n\n  File \"/home/ashlesh/Desktop/amazon/college_project/detect/dependency/lib/python3.11/site-packages/IPython/core/interactiveshell.py\", line 3130, in _run_cell\n\n  File \"/home/ashlesh/Desktop/amazon/college_project/detect/dependency/lib/python3.11/site-packages/IPython/core/async_helpers.py\", line 129, in _pseudo_sync_runner\n\n  File \"/home/ashlesh/Desktop/amazon/college_project/detect/dependency/lib/python3.11/site-packages/IPython/core/interactiveshell.py\", line 3334, in run_cell_async\n\n  File \"/home/ashlesh/Desktop/amazon/college_project/detect/dependency/lib/python3.11/site-packages/IPython/core/interactiveshell.py\", line 3517, in run_ast_nodes\n\n  File \"/home/ashlesh/Desktop/amazon/college_project/detect/dependency/lib/python3.11/site-packages/IPython/core/interactiveshell.py\", line 3577, in run_code\n\n  File \"/tmp/ipykernel_12195/2929039241.py\", line 6, in <module>\n\n  File \"/tmp/ipykernel_12195/3066317449.py\", line 12, in detect_fn\n\n  File \"/home/ashlesh/Desktop/amazon/college_project/detect/dependency/lib/python3.11/site-packages/object_detection/meta_architectures/ssd_meta_arch.py\", line 592, in predict\n\n  File \"/home/ashlesh/Desktop/amazon/college_project/detect/dependency/lib/python3.11/site-packages/object_detection/meta_architectures/ssd_meta_arch.py\", line 593, in predict\n\n  File \"/home/ashlesh/Desktop/amazon/college_project/detect/dependency/lib/python3.11/site-packages/keras/src/utils/traceback_utils.py\", line 65, in error_handler\n\n  File \"/home/ashlesh/Desktop/amazon/college_project/detect/dependency/lib/python3.11/site-packages/keras/src/engine/base_layer.py\", line 1149, in __call__\n\n  File \"/home/ashlesh/Desktop/amazon/college_project/detect/dependency/lib/python3.11/site-packages/keras/src/utils/traceback_utils.py\", line 96, in error_handler\n\n  File \"/home/ashlesh/Desktop/amazon/college_project/detect/dependency/lib/python3.11/site-packages/object_detection/core/box_predictor.py\", line 202, in call\n\n  File \"/home/ashlesh/Desktop/amazon/college_project/detect/dependency/lib/python3.11/site-packages/object_detection/predictors/convolutional_keras_box_predictor.py\", line 472, in _predict\n\n  File \"/home/ashlesh/Desktop/amazon/college_project/detect/dependency/lib/python3.11/site-packages/object_detection/predictors/convolutional_keras_box_predictor.py\", line 484, in _predict\n\n  File \"/home/ashlesh/Desktop/amazon/college_project/detect/dependency/lib/python3.11/site-packages/object_detection/predictors/convolutional_keras_box_predictor.py\", line 492, in _predict\n\n  File \"/home/ashlesh/Desktop/amazon/college_project/detect/dependency/lib/python3.11/site-packages/keras/src/utils/traceback_utils.py\", line 65, in error_handler\n\n  File \"/home/ashlesh/Desktop/amazon/college_project/detect/dependency/lib/python3.11/site-packages/keras/src/engine/base_layer.py\", line 1149, in __call__\n\n  File \"/home/ashlesh/Desktop/amazon/college_project/detect/dependency/lib/python3.11/site-packages/keras/src/utils/traceback_utils.py\", line 96, in error_handler\n\n  File \"/home/ashlesh/Desktop/amazon/college_project/detect/dependency/lib/python3.11/site-packages/object_detection/predictors/heads/head.py\", line 69, in call\n\n  File \"/home/ashlesh/Desktop/amazon/college_project/detect/dependency/lib/python3.11/site-packages/object_detection/predictors/heads/keras_class_head.py\", line 365, in _predict\n\n  File \"/home/ashlesh/Desktop/amazon/college_project/detect/dependency/lib/python3.11/site-packages/object_detection/predictors/heads/keras_class_head.py\", line 366, in _predict\n\nInput to reshape is a tensor with 1566 values, but the requested shape requires a multiple of 91\n\t [[{{node WeightSharedConvolutionalBoxPredictor/WeightSharedConvolutionalClassHead/Reshape_9}}]] [Op:__inference_detect_fn_22767]",
     "output_type": "error",
     "traceback": [
      "\u001b[0;31m---------------------------------------------------------------------------\u001b[0m",
      "\u001b[0;31mInvalidArgumentError\u001b[0m                      Traceback (most recent call last)",
      "Cell \u001b[0;32mIn[29], line 6\u001b[0m\n\u001b[1;32m      3\u001b[0m image_np \u001b[38;5;241m=\u001b[39m np\u001b[38;5;241m.\u001b[39marray(frame)\n\u001b[1;32m      5\u001b[0m input_tensor \u001b[38;5;241m=\u001b[39m tf\u001b[38;5;241m.\u001b[39mconvert_to_tensor(np\u001b[38;5;241m.\u001b[39mexpand_dims(image_np, \u001b[38;5;241m0\u001b[39m), dtype\u001b[38;5;241m=\u001b[39mtf\u001b[38;5;241m.\u001b[39mfloat32)\n\u001b[0;32m----> 6\u001b[0m detections \u001b[38;5;241m=\u001b[39m \u001b[43mdetect_fn\u001b[49m\u001b[43m(\u001b[49m\u001b[43minput_tensor\u001b[49m\u001b[43m)\u001b[49m\n\u001b[1;32m      8\u001b[0m num_detections \u001b[38;5;241m=\u001b[39m \u001b[38;5;28mint\u001b[39m(detections\u001b[38;5;241m.\u001b[39mpop(\u001b[38;5;124m'\u001b[39m\u001b[38;5;124mnum_detections\u001b[39m\u001b[38;5;124m'\u001b[39m))\n\u001b[1;32m      9\u001b[0m detections \u001b[38;5;241m=\u001b[39m {key: value[\u001b[38;5;241m0\u001b[39m, :num_detections]\u001b[38;5;241m.\u001b[39mnumpy()\n\u001b[1;32m     10\u001b[0m               \u001b[38;5;28;01mfor\u001b[39;00m key, value \u001b[38;5;129;01min\u001b[39;00m detections\u001b[38;5;241m.\u001b[39mitems()}\n",
      "File \u001b[0;32m~/Desktop/amazon/college_project/detect/dependency/lib/python3.11/site-packages/tensorflow/python/util/traceback_utils.py:153\u001b[0m, in \u001b[0;36mfilter_traceback.<locals>.error_handler\u001b[0;34m(*args, **kwargs)\u001b[0m\n\u001b[1;32m    151\u001b[0m \u001b[38;5;28;01mexcept\u001b[39;00m \u001b[38;5;167;01mException\u001b[39;00m \u001b[38;5;28;01mas\u001b[39;00m e:\n\u001b[1;32m    152\u001b[0m   filtered_tb \u001b[38;5;241m=\u001b[39m _process_traceback_frames(e\u001b[38;5;241m.\u001b[39m__traceback__)\n\u001b[0;32m--> 153\u001b[0m   \u001b[38;5;28;01mraise\u001b[39;00m e\u001b[38;5;241m.\u001b[39mwith_traceback(filtered_tb) \u001b[38;5;28;01mfrom\u001b[39;00m \u001b[38;5;28;01mNone\u001b[39;00m\n\u001b[1;32m    154\u001b[0m \u001b[38;5;28;01mfinally\u001b[39;00m:\n\u001b[1;32m    155\u001b[0m   \u001b[38;5;28;01mdel\u001b[39;00m filtered_tb\n",
      "File \u001b[0;32m~/Desktop/amazon/college_project/detect/dependency/lib/python3.11/site-packages/tensorflow/python/eager/execute.py:53\u001b[0m, in \u001b[0;36mquick_execute\u001b[0;34m(op_name, num_outputs, inputs, attrs, ctx, name)\u001b[0m\n\u001b[1;32m     51\u001b[0m \u001b[38;5;28;01mtry\u001b[39;00m:\n\u001b[1;32m     52\u001b[0m   ctx\u001b[38;5;241m.\u001b[39mensure_initialized()\n\u001b[0;32m---> 53\u001b[0m   tensors \u001b[38;5;241m=\u001b[39m pywrap_tfe\u001b[38;5;241m.\u001b[39mTFE_Py_Execute(ctx\u001b[38;5;241m.\u001b[39m_handle, device_name, op_name,\n\u001b[1;32m     54\u001b[0m                                       inputs, attrs, num_outputs)\n\u001b[1;32m     55\u001b[0m \u001b[38;5;28;01mexcept\u001b[39;00m core\u001b[38;5;241m.\u001b[39m_NotOkStatusException \u001b[38;5;28;01mas\u001b[39;00m e:\n\u001b[1;32m     56\u001b[0m   \u001b[38;5;28;01mif\u001b[39;00m name \u001b[38;5;129;01mis\u001b[39;00m \u001b[38;5;129;01mnot\u001b[39;00m \u001b[38;5;28;01mNone\u001b[39;00m:\n",
      "\u001b[0;31mInvalidArgumentError\u001b[0m: Graph execution error:\n\nDetected at node WeightSharedConvolutionalBoxPredictor/WeightSharedConvolutionalClassHead/Reshape_9 defined at (most recent call last):\n  File \"/usr/lib/python3.11/runpy.py\", line 198, in _run_module_as_main\n\n  File \"/usr/lib/python3.11/runpy.py\", line 88, in _run_code\n\n  File \"/home/ashlesh/Desktop/amazon/college_project/detect/dependency/lib/python3.11/site-packages/ipykernel_launcher.py\", line 18, in <module>\n\n  File \"/home/ashlesh/Desktop/amazon/college_project/detect/dependency/lib/python3.11/site-packages/traitlets/config/application.py\", line 1075, in launch_instance\n\n  File \"/home/ashlesh/Desktop/amazon/college_project/detect/dependency/lib/python3.11/site-packages/ipykernel/kernelapp.py\", line 739, in start\n\n  File \"/home/ashlesh/Desktop/amazon/college_project/detect/dependency/lib/python3.11/site-packages/tornado/platform/asyncio.py\", line 205, in start\n\n  File \"/usr/lib/python3.11/asyncio/base_events.py\", line 607, in run_forever\n\n  File \"/usr/lib/python3.11/asyncio/base_events.py\", line 1922, in _run_once\n\n  File \"/usr/lib/python3.11/asyncio/events.py\", line 80, in _run\n\n  File \"/home/ashlesh/Desktop/amazon/college_project/detect/dependency/lib/python3.11/site-packages/ipykernel/kernelbase.py\", line 545, in dispatch_queue\n\n  File \"/home/ashlesh/Desktop/amazon/college_project/detect/dependency/lib/python3.11/site-packages/ipykernel/kernelbase.py\", line 534, in process_one\n\n  File \"/home/ashlesh/Desktop/amazon/college_project/detect/dependency/lib/python3.11/site-packages/ipykernel/kernelbase.py\", line 437, in dispatch_shell\n\n  File \"/home/ashlesh/Desktop/amazon/college_project/detect/dependency/lib/python3.11/site-packages/ipykernel/ipkernel.py\", line 359, in execute_request\n\n  File \"/home/ashlesh/Desktop/amazon/college_project/detect/dependency/lib/python3.11/site-packages/ipykernel/kernelbase.py\", line 778, in execute_request\n\n  File \"/home/ashlesh/Desktop/amazon/college_project/detect/dependency/lib/python3.11/site-packages/ipykernel/ipkernel.py\", line 446, in do_execute\n\n  File \"/home/ashlesh/Desktop/amazon/college_project/detect/dependency/lib/python3.11/site-packages/ipykernel/zmqshell.py\", line 549, in run_cell\n\n  File \"/home/ashlesh/Desktop/amazon/college_project/detect/dependency/lib/python3.11/site-packages/IPython/core/interactiveshell.py\", line 3075, in run_cell\n\n  File \"/home/ashlesh/Desktop/amazon/college_project/detect/dependency/lib/python3.11/site-packages/IPython/core/interactiveshell.py\", line 3130, in _run_cell\n\n  File \"/home/ashlesh/Desktop/amazon/college_project/detect/dependency/lib/python3.11/site-packages/IPython/core/async_helpers.py\", line 129, in _pseudo_sync_runner\n\n  File \"/home/ashlesh/Desktop/amazon/college_project/detect/dependency/lib/python3.11/site-packages/IPython/core/interactiveshell.py\", line 3334, in run_cell_async\n\n  File \"/home/ashlesh/Desktop/amazon/college_project/detect/dependency/lib/python3.11/site-packages/IPython/core/interactiveshell.py\", line 3517, in run_ast_nodes\n\n  File \"/home/ashlesh/Desktop/amazon/college_project/detect/dependency/lib/python3.11/site-packages/IPython/core/interactiveshell.py\", line 3577, in run_code\n\n  File \"/tmp/ipykernel_12195/2929039241.py\", line 6, in <module>\n\n  File \"/tmp/ipykernel_12195/3066317449.py\", line 12, in detect_fn\n\n  File \"/home/ashlesh/Desktop/amazon/college_project/detect/dependency/lib/python3.11/site-packages/object_detection/meta_architectures/ssd_meta_arch.py\", line 592, in predict\n\n  File \"/home/ashlesh/Desktop/amazon/college_project/detect/dependency/lib/python3.11/site-packages/object_detection/meta_architectures/ssd_meta_arch.py\", line 593, in predict\n\n  File \"/home/ashlesh/Desktop/amazon/college_project/detect/dependency/lib/python3.11/site-packages/keras/src/utils/traceback_utils.py\", line 65, in error_handler\n\n  File \"/home/ashlesh/Desktop/amazon/college_project/detect/dependency/lib/python3.11/site-packages/keras/src/engine/base_layer.py\", line 1149, in __call__\n\n  File \"/home/ashlesh/Desktop/amazon/college_project/detect/dependency/lib/python3.11/site-packages/keras/src/utils/traceback_utils.py\", line 96, in error_handler\n\n  File \"/home/ashlesh/Desktop/amazon/college_project/detect/dependency/lib/python3.11/site-packages/object_detection/core/box_predictor.py\", line 202, in call\n\n  File \"/home/ashlesh/Desktop/amazon/college_project/detect/dependency/lib/python3.11/site-packages/object_detection/predictors/convolutional_keras_box_predictor.py\", line 472, in _predict\n\n  File \"/home/ashlesh/Desktop/amazon/college_project/detect/dependency/lib/python3.11/site-packages/object_detection/predictors/convolutional_keras_box_predictor.py\", line 484, in _predict\n\n  File \"/home/ashlesh/Desktop/amazon/college_project/detect/dependency/lib/python3.11/site-packages/object_detection/predictors/convolutional_keras_box_predictor.py\", line 492, in _predict\n\n  File \"/home/ashlesh/Desktop/amazon/college_project/detect/dependency/lib/python3.11/site-packages/keras/src/utils/traceback_utils.py\", line 65, in error_handler\n\n  File \"/home/ashlesh/Desktop/amazon/college_project/detect/dependency/lib/python3.11/site-packages/keras/src/engine/base_layer.py\", line 1149, in __call__\n\n  File \"/home/ashlesh/Desktop/amazon/college_project/detect/dependency/lib/python3.11/site-packages/keras/src/utils/traceback_utils.py\", line 96, in error_handler\n\n  File \"/home/ashlesh/Desktop/amazon/college_project/detect/dependency/lib/python3.11/site-packages/object_detection/predictors/heads/head.py\", line 69, in call\n\n  File \"/home/ashlesh/Desktop/amazon/college_project/detect/dependency/lib/python3.11/site-packages/object_detection/predictors/heads/keras_class_head.py\", line 365, in _predict\n\n  File \"/home/ashlesh/Desktop/amazon/college_project/detect/dependency/lib/python3.11/site-packages/object_detection/predictors/heads/keras_class_head.py\", line 366, in _predict\n\nInput to reshape is a tensor with 1566 values, but the requested shape requires a multiple of 91\n\t [[{{node WeightSharedConvolutionalBoxPredictor/WeightSharedConvolutionalClassHead/Reshape_9}}]] [Op:__inference_detect_fn_22767]"
     ]
    }
   ],
   "source": [
    "while True: \n",
    "    ret, frame = cap.read()\n",
    "    image_np = np.array(frame)\n",
    "    \n",
    "    input_tensor = tf.convert_to_tensor(np.expand_dims(image_np, 0), dtype=tf.float32)\n",
    "    detections = detect_fn(input_tensor)\n",
    "    \n",
    "    num_detections = int(detections.pop('num_detections'))\n",
    "    detections = {key: value[0, :num_detections].numpy()\n",
    "                  for key, value in detections.items()}\n",
    "    detections['num_detections'] = num_detections\n",
    "\n",
    "    # detection_classes should be ints.\n",
    "    detections['detection_classes'] = detections['detection_classes'].astype(np.int64)\n",
    "\n",
    "    label_id_offset = 1\n",
    "    image_np_with_detections = image_np.copy()\n",
    "\n",
    "    viz_utils.visualize_boxes_and_labels_on_image_array(\n",
    "                image_np_with_detections,\n",
    "                detections['detection_boxes'],\n",
    "                detections['detection_classes']+label_id_offset,\n",
    "                detections['detection_scores'],\n",
    "                category_index,\n",
    "                use_normalized_coordinates=True,\n",
    "                max_boxes_to_draw=3,\n",
    "                min_score_thresh=.7,\n",
    "                agnostic_mode=False)\n",
    "\n",
    "    cv2.imshow('object detection',  cv2.resize(image_np_with_detections, (800, 600)))\n",
    "    \n",
    "    if cv2.waitKey(1) & 0xFF == ord('q'):\n",
    "        cap.release()\n",
    "        break"
   ]
  },
  {
   "cell_type": "code",
   "execution_count": 12,
   "metadata": {},
   "outputs": [
    {
     "data": {
      "text/plain": [
       "{'detection_boxes': <tf.Tensor: shape=(1, 100, 4), dtype=float32, numpy=\n",
       " array([[[0.00000000e+00, 3.58366370e-02, 1.00000000e+00, 1.00000000e+00],\n",
       "         [0.00000000e+00, 1.89730525e-02, 1.00000000e+00, 1.00000000e+00],\n",
       "         [0.00000000e+00, 9.36661363e-02, 8.18060100e-01, 1.00000000e+00],\n",
       "         [5.77602744e-01, 7.30607152e-01, 1.00000000e+00, 9.73894954e-01],\n",
       "         [4.96599078e-03, 1.60983205e-02, 4.90256280e-01, 7.39558160e-01],\n",
       "         [0.00000000e+00, 2.69930363e-02, 7.47897625e-01, 9.44507718e-01],\n",
       "         [0.00000000e+00, 1.12712216e-02, 2.48287588e-01, 6.96983337e-02],\n",
       "         [1.88216567e-04, 3.54740441e-01, 3.54687750e-01, 7.74570405e-01],\n",
       "         [2.73585021e-02, 3.95463109e-02, 3.66321683e-01, 6.18957281e-01],\n",
       "         [1.93058774e-02, 7.22680986e-03, 2.08012402e-01, 1.92907453e-01],\n",
       "         [1.97141096e-02, 7.51425326e-03, 2.26595163e-01, 1.93501487e-01],\n",
       "         [2.88668498e-02, 1.30094867e-02, 2.22038239e-01, 4.76909503e-02],\n",
       "         [5.76000035e-01, 0.00000000e+00, 1.00000000e+00, 1.00000000e+00],\n",
       "         [2.91432381e-01, 0.00000000e+00, 1.00000000e+00, 1.00000000e+00],\n",
       "         [2.91432381e-01, 0.00000000e+00, 1.00000000e+00, 1.00000000e+00],\n",
       "         [8.38546529e-02, 1.18819606e-02, 2.80634075e-01, 4.60626334e-02],\n",
       "         [2.24670112e-01, 1.14079639e-02, 4.06974971e-01, 4.62077335e-02],\n",
       "         [0.00000000e+00, 5.39719462e-02, 1.00000000e+00, 1.00000000e+00],\n",
       "         [0.00000000e+00, 4.90880311e-02, 9.17009234e-01, 8.27134728e-01],\n",
       "         [5.82342923e-01, 9.20073688e-03, 7.56613791e-01, 4.52968329e-02],\n",
       "         [2.96173930e-01, 1.01455953e-02, 4.81834829e-01, 4.57713678e-02],\n",
       "         [3.54606986e-01, 9.47475620e-03, 5.28347731e-01, 4.57742438e-02],\n",
       "         [2.73585021e-02, 3.95463109e-02, 3.66321683e-01, 6.18957281e-01],\n",
       "         [4.36576456e-03, 1.33807007e-02, 2.21390516e-01, 7.26745948e-02],\n",
       "         [2.21485645e-02, 3.43729347e-01, 4.31492925e-01, 1.00000000e+00],\n",
       "         [4.71346080e-03, 3.52886498e-01, 3.60287845e-01, 7.80539095e-01],\n",
       "         [1.01813227e-02, 3.69717956e-01, 3.41182470e-01, 1.00000000e+00],\n",
       "         [0.00000000e+00, 1.12712216e-02, 2.48287588e-01, 6.96983337e-02],\n",
       "         [0.00000000e+00, 1.12712216e-02, 2.48287588e-01, 6.96983337e-02],\n",
       "         [1.50317401e-02, 2.61012226e-01, 4.21925604e-01, 9.58710313e-01],\n",
       "         [4.65019047e-01, 3.50856930e-01, 1.00000000e+00, 5.92624843e-01],\n",
       "         [5.33437610e-01, 7.65603408e-03, 7.01219559e-01, 4.45880406e-02],\n",
       "         [4.03742909e-01, 1.06537919e-02, 5.86013794e-01, 4.59806025e-02],\n",
       "         [1.78619653e-01, 9.73727368e-03, 3.51573616e-01, 4.53416854e-02],\n",
       "         [0.00000000e+00, 0.00000000e+00, 6.66954219e-01, 8.26127768e-01],\n",
       "         [1.96363181e-02, 2.79817700e-01, 3.45470369e-01, 9.63968873e-01],\n",
       "         [2.40492851e-01, 4.63611186e-02, 1.00000000e+00, 1.00000000e+00],\n",
       "         [4.33413446e-01, 6.23646259e-01, 1.00000000e+00, 9.72159386e-01],\n",
       "         [4.69363540e-01, 8.84924270e-03, 6.55582666e-01, 4.49283868e-02],\n",
       "         [3.08137387e-03, 8.35671090e-03, 1.74824297e-01, 4.80822101e-02],\n",
       "         [5.76000035e-01, 0.00000000e+00, 1.00000000e+00, 1.00000000e+00],\n",
       "         [3.54650617e-03, 2.17637718e-02, 4.99187738e-01, 7.20118523e-01],\n",
       "         [0.00000000e+00, 1.06267668e-02, 2.32268244e-01, 7.85978734e-02],\n",
       "         [2.91432381e-01, 0.00000000e+00, 1.00000000e+00, 1.00000000e+00],\n",
       "         [6.85402751e-03, 7.28058517e-02, 4.52856511e-01, 8.01700830e-01],\n",
       "         [8.38546529e-02, 1.18819606e-02, 2.80634075e-01, 4.60626334e-02],\n",
       "         [0.00000000e+00, 1.89730525e-02, 1.00000000e+00, 1.00000000e+00],\n",
       "         [6.15474343e-01, 6.67720079e-01, 1.00000000e+00, 9.90967989e-01],\n",
       "         [9.62463021e-03, 9.54599798e-01, 2.02917948e-01, 1.00000000e+00],\n",
       "         [1.30178332e-02, 9.57517624e-02, 3.49262714e-01, 7.82518327e-01],\n",
       "         [3.78807724e-01, 8.89289752e-03, 5.59905827e-01, 5.74168675e-02],\n",
       "         [0.00000000e+00, 3.47287357e-02, 6.48465633e-01, 5.34263134e-01],\n",
       "         [4.00734484e-01, 6.69790618e-03, 6.30979717e-01, 5.73281422e-02],\n",
       "         [2.91432381e-01, 0.00000000e+00, 1.00000000e+00, 1.00000000e+00],\n",
       "         [1.52085572e-02, 8.67463052e-02, 3.79234791e-01, 7.97906876e-01],\n",
       "         [2.26541273e-02, 1.00571200e-01, 1.24631986e-01, 2.74463475e-01],\n",
       "         [4.45295200e-02, 1.06315948e-02, 2.62987763e-01, 5.58650456e-02],\n",
       "         [5.91914356e-03, 0.00000000e+00, 3.74492764e-01, 3.13577175e-01],\n",
       "         [4.45295200e-02, 1.06315948e-02, 2.62987763e-01, 5.58650456e-02],\n",
       "         [9.17717993e-01, 4.00542676e-01, 1.00000000e+00, 7.49827325e-01],\n",
       "         [0.00000000e+00, 5.39719462e-02, 1.00000000e+00, 1.00000000e+00],\n",
       "         [5.64372540e-01, 6.46232069e-03, 7.35076666e-01, 5.57279401e-02],\n",
       "         [6.47310853e-01, 7.59918332e-01, 1.00000000e+00, 9.66039300e-01],\n",
       "         [6.07789680e-02, 1.24362372e-02, 2.61543602e-01, 4.63653430e-02],\n",
       "         [0.00000000e+00, 3.58366370e-02, 1.00000000e+00, 1.00000000e+00],\n",
       "         [2.88668498e-02, 1.30094867e-02, 2.22038239e-01, 4.76909503e-02],\n",
       "         [6.60748005e-01, 7.99883723e-01, 1.00000000e+00, 9.75150585e-01],\n",
       "         [0.00000000e+00, 4.61216569e-02, 8.03284466e-01, 5.09689152e-01],\n",
       "         [6.07789680e-02, 1.24362372e-02, 2.61543602e-01, 4.63653430e-02],\n",
       "         [4.96599078e-03, 1.60983205e-02, 4.90256280e-01, 7.39558160e-01],\n",
       "         [4.15683925e-01, 9.38291848e-03, 6.19831860e-01, 5.67796007e-02],\n",
       "         [0.00000000e+00, 4.61216569e-02, 8.03284466e-01, 5.09689152e-01],\n",
       "         [7.21130520e-03, 1.37937635e-01, 2.51849622e-01, 2.85672009e-01],\n",
       "         [5.13390720e-01, 3.50390434e-01, 1.00000000e+00, 6.00638390e-01],\n",
       "         [1.45095736e-02, 1.26024839e-02, 2.36770287e-01, 6.54124096e-02],\n",
       "         [4.45295200e-02, 1.06315948e-02, 2.62987763e-01, 5.58650456e-02],\n",
       "         [8.15802217e-01, 4.69071418e-01, 1.00000000e+00, 1.00000000e+00],\n",
       "         [6.31205559e-01, 4.61978257e-01, 1.00000000e+00, 1.00000000e+00],\n",
       "         [2.24670112e-01, 1.14079639e-02, 4.06974971e-01, 4.62077335e-02],\n",
       "         [2.69245327e-01, 1.06697101e-02, 4.58567202e-01, 4.59174141e-02],\n",
       "         [0.00000000e+00, 5.61644137e-03, 4.59126353e-01, 2.90705681e-01],\n",
       "         [0.00000000e+00, 0.00000000e+00, 7.57806182e-01, 9.50850487e-01],\n",
       "         [1.48694962e-02, 1.17051248e-02, 2.66735971e-01, 5.09082675e-02],\n",
       "         [3.25004846e-01, 9.77015682e-03, 5.03157139e-01, 4.58350778e-02],\n",
       "         [2.71562487e-02, 3.98250937e-01, 3.32177103e-01, 1.00000000e+00],\n",
       "         [4.46652472e-01, 6.31141849e-03, 6.76699817e-01, 5.06385639e-02],\n",
       "         [1.45568639e-01, 9.86560248e-03, 3.24404418e-01, 4.50672284e-02],\n",
       "         [1.30178332e-02, 9.57517624e-02, 3.49262714e-01, 7.82518327e-01],\n",
       "         [3.16017807e-01, 8.42602737e-03, 5.03195286e-01, 5.61114401e-02],\n",
       "         [0.00000000e+00, 3.65428209e-01, 3.65807205e-01, 7.74963975e-01],\n",
       "         [5.37449867e-03, 1.29756510e-01, 2.37273991e-01, 2.80906200e-01],\n",
       "         [0.00000000e+00, 1.10893548e-01, 3.99691582e-01, 6.20704830e-01],\n",
       "         [9.03142035e-01, 7.07734108e-01, 1.00000000e+00, 1.00000000e+00],\n",
       "         [4.18949902e-01, 6.00595772e-03, 6.52753770e-01, 5.69606647e-02],\n",
       "         [2.36809179e-02, 9.45366919e-03, 1.72529519e-01, 1.98004097e-01],\n",
       "         [4.99521047e-01, 7.55036436e-03, 6.73792303e-01, 5.60609698e-02],\n",
       "         [1.45095736e-02, 1.26024839e-02, 2.36770287e-01, 6.54124096e-02],\n",
       "         [2.68734694e-01, 6.25010580e-03, 4.96838331e-01, 5.69737554e-02],\n",
       "         [6.07789680e-02, 1.24362372e-02, 2.61543602e-01, 4.63653430e-02],\n",
       "         [1.12024292e-01, 1.08615141e-02, 3.01279962e-01, 4.54159826e-02]]],\n",
       "       dtype=float32)>,\n",
       " 'detection_scores': <tf.Tensor: shape=(1, 100), dtype=float32, numpy=\n",
       " array([[0.45403844, 0.10937642, 0.08293409, 0.06716397, 0.06083677,\n",
       "         0.04710369, 0.04682952, 0.04371729, 0.04338842, 0.03955014,\n",
       "         0.03891908, 0.03685321, 0.03513085, 0.03267118, 0.0320726 ,\n",
       "         0.03190059, 0.03151706, 0.03116886, 0.02987858, 0.02975342,\n",
       "         0.0295954 , 0.02912458, 0.02853517, 0.02749419, 0.02724399,\n",
       "         0.02698068, 0.02680296, 0.02623507, 0.02608121, 0.02558193,\n",
       "         0.02530388, 0.02478455, 0.02430902, 0.02396268, 0.02344634,\n",
       "         0.02341591, 0.02294688, 0.02250262, 0.02190268, 0.0218214 ,\n",
       "         0.02168628, 0.02163385, 0.020715  , 0.02023278, 0.0199871 ,\n",
       "         0.01923814, 0.01874424, 0.01872632, 0.01865466, 0.01827078,\n",
       "         0.01823209, 0.0177598 , 0.0173815 , 0.01732248, 0.01716912,\n",
       "         0.01715003, 0.01707731, 0.01681827, 0.01681164, 0.01665098,\n",
       "         0.01662265, 0.01644909, 0.01640617, 0.01640299, 0.01631543,\n",
       "         0.01615072, 0.01593883, 0.01591748, 0.01585244, 0.01574282,\n",
       "         0.01542456, 0.01524381, 0.0151944 , 0.01514725, 0.01512905,\n",
       "         0.01472587, 0.0146873 , 0.01462461, 0.01461365, 0.01446244,\n",
       "         0.0144619 , 0.01439071, 0.01411828, 0.0140993 , 0.01408764,\n",
       "         0.01405573, 0.01402988, 0.01385991, 0.01385433, 0.01382705,\n",
       "         0.01379812, 0.01371702, 0.01363412, 0.01351214, 0.01344339,\n",
       "         0.01337968, 0.01333887, 0.0131877 , 0.0131344 , 0.01311496]],\n",
       "       dtype=float32)>,\n",
       " 'detection_classes': <tf.Tensor: shape=(1, 100), dtype=float32, numpy=\n",
       " array([[19.,  0., 20., 18., 20., 19., 22., 18., 13.,  4., 25., 22.,  0.,\n",
       "          0., 26., 22., 22., 15.,  0., 22., 22., 22., 20., 10., 20.,  9.,\n",
       "         13., 18.,  4., 25., 19., 22., 22., 22., 20., 26.,  0., 18., 22.,\n",
       "         22., 18., 19., 17., 12., 25., 18., 20.,  9., 12.,  6.,  1., 13.,\n",
       "          7., 20., 26.,  4., 22.,  2.,  5.,  9., 23.,  1.,  9.,  4., 14.,\n",
       "         18., 21., 27.,  8., 13.,  1., 19., 10., 18., 12., 18.,  9., 12.,\n",
       "         18., 18., 13., 15., 10., 18., 19.,  7., 18., 19.,  1.,  0., 23.,\n",
       "         13.,  9., 22., 23.,  1., 19., 22., 12.,  4.]], dtype=float32)>,\n",
       " 'num_detections': <tf.Tensor: shape=(1,), dtype=float32, numpy=array([100.], dtype=float32)>,\n",
       " 'raw_detection_boxes': <tf.Tensor: shape=(1, 12804, 4), dtype=float32, numpy=\n",
       " array([[[-0.04021817, -0.0135665 ,  0.09404941,  0.05840722],\n",
       "         [-0.05210365, -0.02447187,  0.10219131,  0.07257462],\n",
       "         [-0.02449073, -0.02169956,  0.0602362 ,  0.07956441],\n",
       "         ...,\n",
       "         [ 0.2030347 , -0.9491194 ,  1.4517386 ,  1.5422447 ],\n",
       "         [ 0.09868342, -0.26837873,  1.5290551 ,  1.2723297 ],\n",
       "         [-0.0386852 , -0.6830427 ,  1.8471351 ,  1.5020742 ]]],\n",
       "       dtype=float32)>,\n",
       " 'raw_detection_scores': <tf.Tensor: shape=(1, 12804, 29), dtype=float32, numpy=\n",
       " array([[[1.4643136e-03, 2.0254328e-04, 8.0641406e-04, ...,\n",
       "          7.9900591e-04, 2.3698727e-04, 4.2230092e-04],\n",
       "         [1.5523371e-03, 9.7573691e-05, 4.3458908e-04, ...,\n",
       "          5.8623235e-04, 4.5727973e-04, 6.9917692e-04],\n",
       "         [8.3710032e-04, 3.2432514e-04, 2.9751650e-04, ...,\n",
       "          2.1734786e-04, 4.3040258e-04, 6.6118024e-04],\n",
       "         ...,\n",
       "         [4.6563209e-03, 3.2918199e-03, 3.3886624e-03, ...,\n",
       "          4.0285676e-03, 8.9337705e-03, 2.6745815e-03],\n",
       "         [1.6602963e-03, 4.7834329e-03, 4.2516843e-04, ...,\n",
       "          2.5764457e-04, 6.2013266e-04, 1.0099722e-03],\n",
       "         [1.9347649e-03, 4.0544453e-03, 3.6044157e-04, ...,\n",
       "          8.5520931e-04, 1.3793309e-03, 1.3732282e-04]]], dtype=float32)>,\n",
       " 'detection_multiclass_scores': <tf.Tensor: shape=(1, 100, 29), dtype=float32, numpy=\n",
       " array([[[1.5867400e-03, 9.7498976e-02, 4.6833793e-05, ...,\n",
       "          4.6118948e-05, 8.6942455e-04, 2.4516084e-03],\n",
       "         [6.0673145e-04, 1.0937642e-01, 6.1384155e-05, ...,\n",
       "          1.4395650e-05, 8.6361841e-05, 3.4436138e-04],\n",
       "         [3.0146015e-04, 1.5383083e-02, 1.8480903e-05, ...,\n",
       "          2.2629970e-04, 7.8702252e-03, 1.0682254e-03],\n",
       "         ...,\n",
       "         [9.0079516e-04, 9.2716148e-04, 4.4436269e-03, ...,\n",
       "          2.4105437e-04, 7.7834266e-04, 6.8573182e-04],\n",
       "         [1.3783829e-03, 1.6544036e-03, 4.4778995e-03, ...,\n",
       "          1.7655174e-03, 1.0965634e-03, 3.3156436e-03],\n",
       "         [1.1215984e-03, 1.1715385e-03, 4.6494440e-03, ...,\n",
       "          1.3515764e-03, 1.2165909e-03, 1.6693630e-03]]], dtype=float32)>,\n",
       " 'detection_anchor_indices': <tf.Tensor: shape=(1, 100), dtype=int32, numpy=\n",
       " array([[12673, 12677, 12644, 11507, 12141, 12638,   971, 10029, 12074,\n",
       "           739,   979,   964, 12734, 12788, 12788,  1684,  2884, 12643,\n",
       "         12640,  6244,  3604,  4084, 12074,   730, 12165, 10149, 12105,\n",
       "           971,   971, 12159, 11459,  5764,  4564,  2404, 12606, 12099,\n",
       "         12732, 12472,  5284,   484, 12734, 12139,   731, 12788, 12147,\n",
       "          1684, 12677, 11737,   958, 12086,  4330, 12137,  4811, 12788,\n",
       "         12087,   524,  1450,  9853,  1450, 11948, 12643,  6010, 11746,\n",
       "          1444, 12673,   964, 11752, 12257,  1444, 12141,  4810, 12257,\n",
       "          1013, 11579,   970,  1450, 12584, 12524,  2884,  3364,  9977,\n",
       "         12607,  1205,  3844, 12104,  5285,  2164, 12086,  3850, 10027,\n",
       "           773, 12023, 11984,  5051,   501,  5530,   970,  3611,  1444,\n",
       "          1924]], dtype=int32)>}"
      ]
     },
     "execution_count": 12,
     "metadata": {},
     "output_type": "execute_result"
    }
   ],
   "source": [
    "detections = detect_fn(input_tensor)\n",
    "detections"
   ]
  },
  {
   "cell_type": "code",
   "execution_count": 16,
   "metadata": {},
   "outputs": [],
   "source": [
    "from matplotlib import pyplot as plt"
   ]
  },
  {
   "cell_type": "code",
   "execution_count": 15,
   "metadata": {},
   "outputs": [
    {
     "name": "stdout",
     "output_type": "stream",
     "text": [
      "python Tensorflow/models/research/object_detection/exporter_main_v2.py --input_type=image_tensor --pipeline_config_path=Tensorflow/workspace/models/my_ssd_mobnet/pipeline.config --trained_checkpoint_dir=Tensorflow/workspace/models/my_ssd_mobnet/ --output_directory=Tensorflow/workspace/models/my_ssd_mobnet/export\n"
     ]
    }
   ],
   "source": [
    "print(\"\"\"python {}/research/object_detection/exporter_main_v2.py --input_type=image_tensor --pipeline_config_path={}/{}/pipeline.config --trained_checkpoint_dir={} --output_directory={}export\"\"\".format(APIMODEL_PATH, MODEL_PATH, CUSTOM_MODEL_NAME,CHECKPOINT_PATH, CHECKPOINT_PATH))\n"
   ]
  },
  {
   "cell_type": "code",
   "execution_count": 12,
   "metadata": {},
   "outputs": [
    {
     "name": "stdout",
     "output_type": "stream",
     "text": [
      "\u001b[1;31merror\u001b[0m: \u001b[1mexternally-managed-environment\u001b[0m\r\n",
      "\r\n",
      "\u001b[31m×\u001b[0m This environment is externally managed\r\n",
      "\u001b[31m╰─>\u001b[0m To install Python packages system-wide, try apt install\r\n",
      "\u001b[31m   \u001b[0m python3-xyz, where xyz is the package you are trying to\r\n",
      "\u001b[31m   \u001b[0m install.\r\n",
      "\u001b[31m   \u001b[0m \r\n",
      "\u001b[31m   \u001b[0m If you wish to install a non-Debian-packaged Python package,\r\n",
      "\u001b[31m   \u001b[0m create a virtual environment using python3 -m venv path/to/venv.\r\n",
      "\u001b[31m   \u001b[0m Then use path/to/venv/bin/python and path/to/venv/bin/pip. Make\r\n",
      "\u001b[31m   \u001b[0m sure you have python3-full installed.\r\n",
      "\u001b[31m   \u001b[0m \r\n",
      "\u001b[31m   \u001b[0m If you wish to install a non-Debian packaged Python application,\r\n",
      "\u001b[31m   \u001b[0m it may be easiest to use pipx install xyz, which will manage a\r\n",
      "\u001b[31m   \u001b[0m virtual environment for you. Make sure you have pipx installed.\r\n",
      "\u001b[31m   \u001b[0m \r\n",
      "\u001b[31m   \u001b[0m See /usr/share/doc/python3.11/README.venv for more information.\r\n",
      "\r\n",
      "\u001b[1;35mnote\u001b[0m: If you believe this is a mistake, please contact your Python installation or OS distribution provider. You can override this, at the risk of breaking your Python installation or OS, by passing --break-system-packages.\r\n",
      "\u001b[1;36mhint\u001b[0m: See PEP 668 for the detailed specification.\r\n"
     ]
    }
   ],
   "source": [
    "!pip install tensorflowjs\n"
   ]
  },
  {
   "cell_type": "code",
   "execution_count": 13,
   "metadata": {},
   "outputs": [
    {
     "data": {
      "text/plain": [
       "\"tensorflowjs_converter --input_format=tf_saved_model --output_node_names='detection_boxes,detection_classes,detection_features,detection_multiclass_scores,detection_scores,num_detections,raw_detection_boxes,raw_detection_scores' --output_format=tfjs_graph_model --signature_name=serving_default Tensorflow/workspace/models/my_ssd_mobnet/export/saved_model Tensorflow/workspace/models/my_ssd_mobnet/converted\""
      ]
     },
     "execution_count": 13,
     "metadata": {},
     "output_type": "execute_result"
    }
   ],
   "source": [
    "\"\"\"tensorflowjs_converter --input_format=tf_saved_model --output_node_names='detection_boxes,detection_classes,detection_features,detection_multiclass_scores,detection_scores,num_detections,raw_detection_boxes,raw_detection_scores' --output_format=tfjs_graph_model --signature_name=serving_default {}export/saved_model {}converted\"\"\".format(CHECKPOINT_PATH, CHECKPOINT_PATH)\n"
   ]
  },
  {
   "cell_type": "code",
   "execution_count": null,
   "metadata": {},
   "outputs": [],
   "source": []
  }
 ],
 "metadata": {
  "kernelspec": {
   "display_name": "lastest",
   "language": "python",
   "name": "dependency"
  },
  "language_info": {
   "codemirror_mode": {
    "name": "ipython",
    "version": 3
   },
   "file_extension": ".py",
   "mimetype": "text/x-python",
   "name": "python",
   "nbconvert_exporter": "python",
   "pygments_lexer": "ipython3",
   "version": "3.11.4"
  },
  "vscode": {
   "interpreter": {
    "hash": "7e532848faa3b4ba2426ddf1ea1a9b268a231417ee38c5f14a4b95900f749e4b"
   }
  }
 },
 "nbformat": 4,
 "nbformat_minor": 2
}
