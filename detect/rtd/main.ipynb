{
 "cells": [
  {
   "cell_type": "code",
   "execution_count": 10,
   "id": "923af229",
   "metadata": {},
   "outputs": [],
   "source": [
    "import cv2\n",
    "import os\n",
    "import time\n",
    "import uuid\n"
   ]
  },
  {
   "cell_type": "code",
   "execution_count": 11,
   "id": "3664a1a8",
   "metadata": {},
   "outputs": [],
   "source": [
    "IMAGES_PATH = 'Tensorflow/workspace/images/collectedimages'\n",
    "SAMPLE_SIZE = 10"
   ]
  },
  {
   "cell_type": "code",
   "execution_count": 12,
   "id": "3ac9a306",
   "metadata": {},
   "outputs": [],
   "source": [
    "labels = [ \n",
    "    \"hello\", \"yes\",\"no\"\n",
    "]"
   ]
  },
  {
   "cell_type": "code",
   "execution_count": 13,
   "id": "598f68ce",
   "metadata": {},
   "outputs": [
    {
     "name": "stdout",
     "output_type": "stream",
     "text": [
      "Collecting images for hello\n",
      "Collecting images for yes\n",
      "Collecting images for no\n",
      "DONE !\n"
     ]
    }
   ],
   "source": [
    "for label in labels:\n",
    "    cap = cv2.VideoCapture(0)\n",
    "    print(\"Collecting images for {}\".format(label))\n",
    "    newpath = os.path.join(IMAGES_PATH, label)\n",
    "    if not os.path.exists(newpath):\n",
    "        os.makedirs(newpath)\n",
    "    time.sleep(5)\n",
    "    for imgnum in range(SAMPLE_SIZE):\n",
    "        ret, frame = cap.read()\n",
    "        image_name = os.path.join(IMAGES_PATH, label, label + \".\" + \"{}.jpg\".format(str(uuid.uuid4())))\n",
    "        cv2.imwrite(image_name, frame)\n",
    "        cv2.imshow(\"frame\", frame)\n",
    "        time.sleep(3)\n",
    "        \n",
    "        if cv2.waitKey(1) and 0xff == ord('q'):\n",
    "            break\n",
    "    cap.release()\n",
    "print(\"DONE !\")"
   ]
  },
  {
   "cell_type": "code",
   "execution_count": 5,
   "id": "e25a21e2",
   "metadata": {},
   "outputs": [],
   "source": [
    "cap.release()"
   ]
  },
  {
   "cell_type": "code",
   "execution_count": null,
   "id": "ec26bb2a",
   "metadata": {},
   "outputs": [],
   "source": []
  },
  {
   "cell_type": "code",
   "execution_count": null,
   "id": "9467e222",
   "metadata": {},
   "outputs": [],
   "source": []
  },
  {
   "cell_type": "code",
   "execution_count": null,
   "id": "6f2331e4",
   "metadata": {},
   "outputs": [],
   "source": []
  }
 ],
 "metadata": {
  "kernelspec": {
   "display_name": "lastest",
   "language": "python",
   "name": "dependency"
  },
  "language_info": {
   "codemirror_mode": {
    "name": "ipython",
    "version": 3
   },
   "file_extension": ".py",
   "mimetype": "text/x-python",
   "name": "python",
   "nbconvert_exporter": "python",
   "pygments_lexer": "ipython3",
   "version": "3.11.4"
  },
  "vscode": {
   "interpreter": {
    "hash": "7e532848faa3b4ba2426ddf1ea1a9b268a231417ee38c5f14a4b95900f749e4b"
   }
  }
 },
 "nbformat": 4,
 "nbformat_minor": 5
}
