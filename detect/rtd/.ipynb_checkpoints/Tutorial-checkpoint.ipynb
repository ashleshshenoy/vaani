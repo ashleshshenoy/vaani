{
 "cells": [
  {
   "cell_type": "markdown",
   "metadata": {},
   "source": [
    "Resources Used\n",
    "- wget.download('https://tensorflow-object-detection-api-tutorial.readthedocs.io/en/latest/_downloads/da4babe668a8afb093cc7776d7e630f3/generate_tfrecord.py')\n",
    "- Setup https://tensorflow-object-detection-api-tutorial.readthedocs.io/en/latest/install.html"
   ]
  },
  {
   "cell_type": "markdown",
   "metadata": {},
   "source": [
    "# 0. Setup Paths"
   ]
  },
  {
   "cell_type": "code",
   "execution_count": 1,
   "metadata": {},
   "outputs": [],
   "source": [
    "import os\n",
    "import pandas as pd\n",
    "\n",
    "WORKSPACE_PATH = 'Tensorflow/workspace'\n",
    "SCRIPTS_PATH = 'Tensorflow/scripts'\n",
    "APIMODEL_PATH = 'Tensorflow/models'\n",
    "ANNOTATION_PATH = WORKSPACE_PATH+'/annotations'\n",
    "IMAGE_PATH = WORKSPACE_PATH+'/images'\n",
    "MODEL_PATH = WORKSPACE_PATH+'/models'\n",
    "PRETRAINED_MODEL_PATH = WORKSPACE_PATH+'/pre-trained-models'\n",
    "CONFIG_PATH = MODEL_PATH+'/my_ssd_mobnet/pipeline.config'\n",
    "CHECKPOINT_PATH = MODEL_PATH+'/my_ssd_mobnet/'"
   ]
  },
  {
   "cell_type": "markdown",
   "metadata": {},
   "source": [
    "# 1. Create Label Map"
   ]
  },
  {
   "cell_type": "code",
   "execution_count": 2,
   "metadata": {},
   "outputs": [],
   "source": [
    "labels = [{'name':'hello', 'id':1},\n",
    "          {'name':'yes', 'id':2}, \n",
    "          {\"name\": 'no','id':3}\n",
    "]\n",
    "\n",
    "with open(os.path.join(ANNOTATION_PATH ,'label_map.pbtxt'), 'w') as f:\n",
    "    for label in labels:\n",
    "        f.write('item { \\n')\n",
    "        f.write('\\tname:\\'{}\\'\\n'.format(label['name']))\n",
    "        f.write('\\tid:{}\\n'.format(label['id']))\n",
    "        f.write('}\\n')"
   ]
  },
  {
   "cell_type": "markdown",
   "metadata": {},
   "source": [
    "# 2. Create TF records"
   ]
  },
  {
   "cell_type": "code",
   "execution_count": 3,
   "metadata": {
    "scrolled": true
   },
   "outputs": [
    {
     "name": "stdout",
     "output_type": "stream",
     "text": [
      "2024-02-28 00:21:37.188944: E external/local_xla/xla/stream_executor/cuda/cuda_dnn.cc:9261] Unable to register cuDNN factory: Attempting to register factory for plugin cuDNN when one has already been registered\n",
      "2024-02-28 00:21:37.188995: E external/local_xla/xla/stream_executor/cuda/cuda_fft.cc:607] Unable to register cuFFT factory: Attempting to register factory for plugin cuFFT when one has already been registered\n",
      "2024-02-28 00:21:37.189852: E external/local_xla/xla/stream_executor/cuda/cuda_blas.cc:1515] Unable to register cuBLAS factory: Attempting to register factory for plugin cuBLAS when one has already been registered\n",
      "Successfully created the TFRecord file: Tensorflow/workspace/annotations/train.record\n",
      "2024-02-28 00:21:40.551143: E external/local_xla/xla/stream_executor/cuda/cuda_dnn.cc:9261] Unable to register cuDNN factory: Attempting to register factory for plugin cuDNN when one has already been registered\n",
      "2024-02-28 00:21:40.551201: E external/local_xla/xla/stream_executor/cuda/cuda_fft.cc:607] Unable to register cuFFT factory: Attempting to register factory for plugin cuFFT when one has already been registered\n",
      "2024-02-28 00:21:40.552061: E external/local_xla/xla/stream_executor/cuda/cuda_blas.cc:1515] Unable to register cuBLAS factory: Attempting to register factory for plugin cuBLAS when one has already been registered\n",
      "Successfully created the TFRecord file: Tensorflow/workspace/annotations/test.record\n"
     ]
    }
   ],
   "source": [
    "\n",
    "!../dependency/bin/python3 {SCRIPTS_PATH + '/generate_tfrecord.py'} -x {IMAGE_PATH + '/train'} -l {ANNOTATION_PATH + '/label_map.pbtxt'} -o {ANNOTATION_PATH + '/train.record'}\n",
    "!../dependency/bin/python3 {SCRIPTS_PATH + '/generate_tfrecord.py'} -x{IMAGE_PATH + '/test'} -l {ANNOTATION_PATH + '/label_map.pbtxt'} -o {ANNOTATION_PATH + '/test.record'}"
   ]
  },
  {
   "cell_type": "markdown",
   "metadata": {},
   "source": [
    "# 3. Download TF Models Pretrained Models from Tensorflow Model Zoo"
   ]
  },
  {
   "cell_type": "code",
   "execution_count": 5,
   "metadata": {},
   "outputs": [
    {
     "name": "stdout",
     "output_type": "stream",
     "text": [
      "Cloning into 'models'...\n",
      "remote: Enumerating objects: 93154, done.\u001b[K\n",
      "remote: Counting objects: 100% (3043/3043), done.\u001b[K\n",
      "remote: Compressing objects: 100% (1654/1654), done.\u001b[K\n",
      "remote: Total 93154 (delta 1422), reused 2940 (delta 1365), pack-reused 90111\u001b[K\n",
      "Receiving objects: 100% (93154/93154), 616.94 MiB | 1.23 MiB/s, done.\n",
      "Resolving deltas: 100% (66353/66353), done.\n"
     ]
    }
   ],
   "source": [
    "!git clone https://github.com/tensorflow/models"
   ]
  },
  {
   "cell_type": "code",
   "execution_count": 6,
   "metadata": {},
   "outputs": [],
   "source": [
    "#wget.download('http://download.tensorflow.org/models/object_detection/tf2/20200711/ssd_mobilenet_v2_fpnlite_320x320_coco17_tpu-8.tar.gz')\n",
    "#!mv ssd_mobilenet_v2_fpnlite_320x320_coco17_tpu-8.tar.gz {PRETRAINED_MODEL_PATH}\n",
    "#!cd {PRETRAINED_MODEL_PATH} && tar -zxvf ssd_mobilenet_v2_fpnlite_320x320_coco17_tpu-8.tar.gz"
   ]
  },
  {
   "cell_type": "markdown",
   "metadata": {},
   "source": [
    "# 4. Copy Model Config to Training Folder"
   ]
  },
  {
   "cell_type": "code",
   "execution_count": 2,
   "metadata": {},
   "outputs": [],
   "source": [
    "CUSTOM_MODEL_NAME = 'my_ssd_mobnet' "
   ]
  },
  {
   "cell_type": "code",
   "execution_count": 7,
   "metadata": {},
   "outputs": [],
   "source": [
    "!mkdir {'Tensorflow/workspace/models/'+CUSTOM_MODEL_NAME}\n",
    "!cp {PRETRAINED_MODEL_PATH+'/ssd_mobilenet_v2_fpnlite_320x320_coco17_tpu-8/pipeline.config'} {MODEL_PATH+'/'+CUSTOM_MODEL_NAME}"
   ]
  },
  {
   "cell_type": "markdown",
   "metadata": {},
   "source": [
    "# 5. Update Config For Transfer Learning"
   ]
  },
  {
   "cell_type": "code",
   "execution_count": 3,
   "metadata": {},
   "outputs": [
    {
     "name": "stderr",
     "output_type": "stream",
     "text": [
      "2024-02-28 02:48:20.219427: E external/local_xla/xla/stream_executor/cuda/cuda_dnn.cc:9261] Unable to register cuDNN factory: Attempting to register factory for plugin cuDNN when one has already been registered\n",
      "2024-02-28 02:48:20.219566: E external/local_xla/xla/stream_executor/cuda/cuda_fft.cc:607] Unable to register cuFFT factory: Attempting to register factory for plugin cuFFT when one has already been registered\n",
      "2024-02-28 02:48:20.249758: E external/local_xla/xla/stream_executor/cuda/cuda_blas.cc:1515] Unable to register cuBLAS factory: Attempting to register factory for plugin cuBLAS when one has already been registered\n",
      "2024-02-28 02:48:20.320582: I tensorflow/core/platform/cpu_feature_guard.cc:182] This TensorFlow binary is optimized to use available CPU instructions in performance-critical operations.\n",
      "To enable the following instructions: AVX2 FMA, in other operations, rebuild TensorFlow with the appropriate compiler flags.\n",
      "2024-02-28 02:48:21.559421: W tensorflow/compiler/tf2tensorrt/utils/py_utils.cc:38] TF-TRT Warning: Could not find TensorRT\n"
     ]
    }
   ],
   "source": [
    "import tensorflow as tf\n",
    "from object_detection.utils import config_util\n",
    "from object_detection.protos import pipeline_pb2\n",
    "from google.protobuf import text_format"
   ]
  },
  {
   "cell_type": "code",
   "execution_count": 4,
   "metadata": {},
   "outputs": [],
   "source": [
    "CONFIG_PATH = MODEL_PATH+'/'+CUSTOM_MODEL_NAME+'/pipeline.config'"
   ]
  },
  {
   "cell_type": "code",
   "execution_count": 5,
   "metadata": {},
   "outputs": [],
   "source": [
    "config = config_util.get_configs_from_pipeline_file(CONFIG_PATH)"
   ]
  },
  {
   "cell_type": "code",
   "execution_count": 6,
   "metadata": {},
   "outputs": [
    {
     "data": {
      "text/plain": [
       "{'model': ssd {\n",
       "   num_classes: 3\n",
       "   image_resizer {\n",
       "     fixed_shape_resizer {\n",
       "       height: 320\n",
       "       width: 320\n",
       "     }\n",
       "   }\n",
       "   feature_extractor {\n",
       "     type: \"ssd_mobilenet_v2_fpn_keras\"\n",
       "     depth_multiplier: 1.0\n",
       "     min_depth: 16\n",
       "     conv_hyperparams {\n",
       "       regularizer {\n",
       "         l2_regularizer {\n",
       "           weight: 4e-05\n",
       "         }\n",
       "       }\n",
       "       initializer {\n",
       "         random_normal_initializer {\n",
       "           mean: 0.0\n",
       "           stddev: 0.01\n",
       "         }\n",
       "       }\n",
       "       activation: RELU_6\n",
       "       batch_norm {\n",
       "         decay: 0.997\n",
       "         scale: true\n",
       "         epsilon: 0.001\n",
       "       }\n",
       "     }\n",
       "     use_depthwise: true\n",
       "     override_base_feature_extractor_hyperparams: true\n",
       "     fpn {\n",
       "       min_level: 3\n",
       "       max_level: 7\n",
       "       additional_layer_depth: 128\n",
       "     }\n",
       "   }\n",
       "   box_coder {\n",
       "     faster_rcnn_box_coder {\n",
       "       y_scale: 10.0\n",
       "       x_scale: 10.0\n",
       "       height_scale: 5.0\n",
       "       width_scale: 5.0\n",
       "     }\n",
       "   }\n",
       "   matcher {\n",
       "     argmax_matcher {\n",
       "       matched_threshold: 0.5\n",
       "       unmatched_threshold: 0.5\n",
       "       ignore_thresholds: false\n",
       "       negatives_lower_than_unmatched: true\n",
       "       force_match_for_each_row: true\n",
       "       use_matmul_gather: true\n",
       "     }\n",
       "   }\n",
       "   similarity_calculator {\n",
       "     iou_similarity {\n",
       "     }\n",
       "   }\n",
       "   box_predictor {\n",
       "     weight_shared_convolutional_box_predictor {\n",
       "       conv_hyperparams {\n",
       "         regularizer {\n",
       "           l2_regularizer {\n",
       "             weight: 4e-05\n",
       "           }\n",
       "         }\n",
       "         initializer {\n",
       "           random_normal_initializer {\n",
       "             mean: 0.0\n",
       "             stddev: 0.01\n",
       "           }\n",
       "         }\n",
       "         activation: RELU_6\n",
       "         batch_norm {\n",
       "           decay: 0.997\n",
       "           scale: true\n",
       "           epsilon: 0.001\n",
       "         }\n",
       "       }\n",
       "       depth: 128\n",
       "       num_layers_before_predictor: 4\n",
       "       kernel_size: 3\n",
       "       class_prediction_bias_init: -4.6\n",
       "       share_prediction_tower: true\n",
       "       use_depthwise: true\n",
       "     }\n",
       "   }\n",
       "   anchor_generator {\n",
       "     multiscale_anchor_generator {\n",
       "       min_level: 3\n",
       "       max_level: 7\n",
       "       anchor_scale: 4.0\n",
       "       aspect_ratios: 1.0\n",
       "       aspect_ratios: 2.0\n",
       "       aspect_ratios: 0.5\n",
       "       scales_per_octave: 2\n",
       "     }\n",
       "   }\n",
       "   post_processing {\n",
       "     batch_non_max_suppression {\n",
       "       score_threshold: 1e-08\n",
       "       iou_threshold: 0.6\n",
       "       max_detections_per_class: 100\n",
       "       max_total_detections: 100\n",
       "       use_static_shapes: false\n",
       "     }\n",
       "     score_converter: SIGMOID\n",
       "   }\n",
       "   normalize_loss_by_num_matches: true\n",
       "   loss {\n",
       "     localization_loss {\n",
       "       weighted_smooth_l1 {\n",
       "       }\n",
       "     }\n",
       "     classification_loss {\n",
       "       weighted_sigmoid_focal {\n",
       "         gamma: 2.0\n",
       "         alpha: 0.25\n",
       "       }\n",
       "     }\n",
       "     classification_weight: 1.0\n",
       "     localization_weight: 1.0\n",
       "   }\n",
       "   encode_background_as_zeros: true\n",
       "   normalize_loc_loss_by_codesize: true\n",
       "   inplace_batchnorm_update: true\n",
       "   freeze_batchnorm: false\n",
       " },\n",
       " 'train_config': batch_size: 4\n",
       " data_augmentation_options {\n",
       "   random_horizontal_flip {\n",
       "   }\n",
       " }\n",
       " data_augmentation_options {\n",
       "   random_crop_image {\n",
       "     min_object_covered: 0.0\n",
       "     min_aspect_ratio: 0.75\n",
       "     max_aspect_ratio: 3.0\n",
       "     min_area: 0.75\n",
       "     max_area: 1.0\n",
       "     overlap_thresh: 0.0\n",
       "   }\n",
       " }\n",
       " sync_replicas: true\n",
       " optimizer {\n",
       "   momentum_optimizer {\n",
       "     learning_rate {\n",
       "       cosine_decay_learning_rate {\n",
       "         learning_rate_base: 0.08\n",
       "         total_steps: 50000\n",
       "         warmup_learning_rate: 0.026666\n",
       "         warmup_steps: 1000\n",
       "       }\n",
       "     }\n",
       "     momentum_optimizer_value: 0.9\n",
       "   }\n",
       "   use_moving_average: false\n",
       " }\n",
       " fine_tune_checkpoint: \"Tensorflow/workspace/pre-trained-models/ssd_mobilenet_v2_fpnlite_320x320_coco17_tpu-8/checkpoint/ckpt-0\"\n",
       " num_steps: 50000\n",
       " startup_delay_steps: 0.0\n",
       " replicas_to_aggregate: 8\n",
       " max_number_of_boxes: 100\n",
       " unpad_groundtruth_tensors: false\n",
       " fine_tune_checkpoint_type: \"detection\"\n",
       " fine_tune_checkpoint_version: V2,\n",
       " 'train_input_config': label_map_path: \"Tensorflow/workspace/annotations/label_map.pbtxt\"\n",
       " tf_record_input_reader {\n",
       "   input_path: \"Tensorflow/workspace/annotations/train.record\"\n",
       " },\n",
       " 'eval_config': metrics_set: \"coco_detection_metrics\"\n",
       " use_moving_averages: false,\n",
       " 'eval_input_configs': [label_map_path: \"Tensorflow/workspace/annotations/label_map.pbtxt\"\n",
       " shuffle: false\n",
       " num_epochs: 1\n",
       " tf_record_input_reader {\n",
       "   input_path: \"Tensorflow/workspace/annotations/test.record\"\n",
       " }\n",
       " ],\n",
       " 'eval_input_config': label_map_path: \"Tensorflow/workspace/annotations/label_map.pbtxt\"\n",
       " shuffle: false\n",
       " num_epochs: 1\n",
       " tf_record_input_reader {\n",
       "   input_path: \"Tensorflow/workspace/annotations/test.record\"\n",
       " }}"
      ]
     },
     "execution_count": 6,
     "metadata": {},
     "output_type": "execute_result"
    }
   ],
   "source": [
    "config"
   ]
  },
  {
   "cell_type": "code",
   "execution_count": 33,
   "metadata": {},
   "outputs": [],
   "source": [
    "pipeline_config = pipeline_pb2.TrainEvalPipelineConfig()\n",
    "with tf.io.gfile.GFile(CONFIG_PATH, \"r\") as f:                                                                                                                                                                                                                     \n",
    "    proto_str = f.read()                                                                                                                                                                                                                                          \n",
    "    text_format.Merge(proto_str, pipeline_config)  "
   ]
  },
  {
   "cell_type": "code",
   "execution_count": 34,
   "metadata": {},
   "outputs": [],
   "source": [
    "pipeline_config.model.ssd.num_classes = len(labels)\n",
    "pipeline_config.train_config.batch_size = 4\n",
    "pipeline_config.train_config.fine_tune_checkpoint = PRETRAINED_MODEL_PATH+'/ssd_mobilenet_v2_fpnlite_320x320_coco17_tpu-8/checkpoint/ckpt-0'\n",
    "pipeline_config.train_config.fine_tune_checkpoint_type = \"detection\"\n",
    "pipeline_config.train_input_reader.label_map_path= ANNOTATION_PATH + '/label_map.pbtxt'\n",
    "pipeline_config.train_input_reader.tf_record_input_reader.input_path[:] = [ANNOTATION_PATH + '/train.record']\n",
    "pipeline_config.eval_input_reader[0].label_map_path = ANNOTATION_PATH + '/label_map.pbtxt'\n",
    "pipeline_config.eval_input_reader[0].tf_record_input_reader.input_path[:] = [ANNOTATION_PATH + '/test.record']"
   ]
  },
  {
   "cell_type": "code",
   "execution_count": null,
   "metadata": {},
   "outputs": [],
   "source": []
  },
  {
   "cell_type": "code",
   "execution_count": 35,
   "metadata": {},
   "outputs": [],
   "source": [
    "config_text = text_format.MessageToString(pipeline_config)                                                                                                                                                                                                        \n",
    "with tf.io.gfile.GFile(CONFIG_PATH, \"wb\") as f:                                                                                                                                                                                                                     \n",
    "    f.write(config_text)   "
   ]
  },
  {
   "cell_type": "markdown",
   "metadata": {},
   "source": [
    "# 6. Train the model"
   ]
  },
  {
   "cell_type": "code",
   "execution_count": 36,
   "metadata": {},
   "outputs": [
    {
     "name": "stdout",
     "output_type": "stream",
     "text": [
      "python3 Tensorflow/models/research/object_detection/model_main_tf2.py --model_dir=Tensorflow/workspace/models/my_ssd_mobnet --pipeline_config_path=Tensorflow/workspace/models/my_ssd_mobnet/pipeline.config --num_train_steps=10000\n"
     ]
    }
   ],
   "source": [
    "print(\"\"\"python3 {}/research/object_detection/model_main_tf2.py --model_dir={}/{} --pipeline_config_path={}/{}/pipeline.config --num_train_steps=10000\"\"\".format(APIMODEL_PATH, MODEL_PATH,CUSTOM_MODEL_NAME,MODEL_PATH,CUSTOM_MODEL_NAME))"
   ]
  },
  {
   "cell_type": "markdown",
   "metadata": {},
   "source": [
    "# 7. Load Train Model From Checkpoint"
   ]
  },
  {
   "cell_type": "code",
   "execution_count": 7,
   "metadata": {},
   "outputs": [],
   "source": [
    "import os\n",
    "from object_detection.utils import label_map_util\n",
    "from object_detection.utils import visualization_utils as viz_utils\n",
    "from object_detection.builders import model_builder"
   ]
  },
  {
   "cell_type": "code",
   "execution_count": 22,
   "metadata": {},
   "outputs": [],
   "source": [
    "# Load pipeline config and build a detection model\n",
    "configs = config_util.get_configs_from_pipeline_file(CONFIG_PATH)\n",
    "detection_model = model_builder.build(model_config=configs['model'], is_training=False)\n",
    "\n",
    "# Restore checkpoint\n",
    "ckpt = tf.compat.v2.train.Checkpoint(model=detection_model)\n",
    "ckpt.restore(os.path.join(CHECKPOINT_PATH, 'ckpt-11')).expect_partial()\n",
    "\n",
    "@tf.function\n",
    "def detect_fn(image):\n",
    "    image, shapes = detection_model.preprocess(image)\n",
    "    prediction_dict = detection_model.predict(image, shapes)\n",
    "    detections = detection_model.postprocess(prediction_dict, shapes)\n",
    "    return detections"
   ]
  },
  {
   "cell_type": "markdown",
   "metadata": {},
   "source": [
    "# 8. Detect in Real-Time"
   ]
  },
  {
   "cell_type": "code",
   "execution_count": 23,
   "metadata": {},
   "outputs": [],
   "source": [
    "import cv2 \n",
    "import numpy as np"
   ]
  },
  {
   "cell_type": "code",
   "execution_count": 24,
   "metadata": {},
   "outputs": [],
   "source": [
    "category_index = label_map_util.create_category_index_from_labelmap(ANNOTATION_PATH+'/label_map.pbtxt')"
   ]
  },
  {
   "cell_type": "code",
   "execution_count": 27,
   "metadata": {},
   "outputs": [],
   "source": [
    "# Setup capture\n",
    "cap = cv2.VideoCapture(0)\n",
    "width = int(cap.get(cv2.CAP_PROP_FRAME_WIDTH))\n",
    "height = int(cap.get(cv2.CAP_PROP_FRAME_HEIGHT))\n"
   ]
  },
  {
   "cell_type": "code",
   "execution_count": 26,
   "metadata": {},
   "outputs": [],
   "source": [
    "cap.release()"
   ]
  },
  {
   "cell_type": "code",
   "execution_count": 28,
   "metadata": {},
   "outputs": [
    {
     "name": "stderr",
     "output_type": "stream",
     "text": [
      "Warning: Ignoring XDG_SESSION_TYPE=wayland on Gnome. Use QT_QPA_PLATFORM=wayland to run on Wayland anyway.\n"
     ]
    }
   ],
   "source": [
    "while True: \n",
    "    ret, frame = cap.read()\n",
    "    image_np = np.array(frame)\n",
    "    \n",
    "    input_tensor = tf.convert_to_tensor(np.expand_dims(image_np, 0), dtype=tf.float32)\n",
    "    detections = detect_fn(input_tensor)\n",
    "    \n",
    "    num_detections = int(detections.pop('num_detections'))\n",
    "    detections = {key: value[0, :num_detections].numpy()\n",
    "                  for key, value in detections.items()}\n",
    "    detections['num_detections'] = num_detections\n",
    "\n",
    "    # detection_classes should be ints.\n",
    "    detections['detection_classes'] = detections['detection_classes'].astype(np.int64)\n",
    "\n",
    "    label_id_offset = 1\n",
    "    image_np_with_detections = image_np.copy()\n",
    "\n",
    "    viz_utils.visualize_boxes_and_labels_on_image_array(\n",
    "                image_np_with_detections,\n",
    "                detections['detection_boxes'],\n",
    "                detections['detection_classes']+label_id_offset,\n",
    "                detections['detection_scores'],\n",
    "                category_index,\n",
    "                use_normalized_coordinates=True,\n",
    "                max_boxes_to_draw=3,\n",
    "                min_score_thresh=.8,\n",
    "                agnostic_mode=False)\n",
    "\n",
    "    cv2.imshow('object detection',  cv2.resize(image_np_with_detections, (800, 600)))\n",
    "    \n",
    "    if cv2.waitKey(1) & 0xFF == ord('q'):\n",
    "        cap.release()\n",
    "        break"
   ]
  },
  {
   "cell_type": "code",
   "execution_count": 34,
   "metadata": {},
   "outputs": [
    {
     "data": {
      "text/plain": [
       "{'detection_boxes': <tf.Tensor: shape=(1, 100, 4), dtype=float32, numpy=\n",
       " array([[[0.00000000e+00, 6.29341245e-01, 5.10535121e-01, 1.00000000e+00],\n",
       "         [3.71483922e-01, 4.53105837e-01, 9.42605138e-01, 8.52442503e-01],\n",
       "         [6.98754787e-02, 4.53440011e-01, 6.40549541e-01, 8.52444828e-01],\n",
       "         [3.70860308e-01, 2.53028452e-01, 9.42389846e-01, 6.52473629e-01],\n",
       "         [3.70854229e-01, 3.53023052e-01, 9.42407727e-01, 7.52465725e-01],\n",
       "         [3.71420443e-01, 1.52968705e-01, 9.43075478e-01, 5.52510083e-01],\n",
       "         [7.24736750e-02, 5.53336263e-01, 6.42843843e-01, 9.52383399e-01],\n",
       "         [3.73732388e-01, 5.53100467e-01, 9.44589198e-01, 9.52374101e-01],\n",
       "         [6.98526502e-02, 2.53284037e-01, 6.41117334e-01, 6.52477622e-01],\n",
       "         [6.93523586e-02, 3.53334546e-01, 6.40587091e-01, 7.52457261e-01],\n",
       "         [7.09827244e-02, 1.53068781e-01, 6.42552733e-01, 5.52569747e-01],\n",
       "         [3.70608628e-01, 5.30325472e-02, 9.42022383e-01, 4.52455491e-01],\n",
       "         [7.04854727e-02, 5.31113297e-02, 6.41851366e-01, 4.52505052e-01],\n",
       "         [0.00000000e+00, 4.47761714e-01, 4.91871774e-01, 8.53997171e-01],\n",
       "         [0.00000000e+00, 2.47555733e-01, 4.91809309e-01, 6.54253602e-01],\n",
       "         [1.89892113e-01, 6.34728253e-01, 7.71280706e-01, 1.00000000e+00],\n",
       "         [0.00000000e+00, 4.91835773e-02, 4.99155104e-01, 4.55928534e-01],\n",
       "         [1.02494448e-01, 7.48861074e-01, 6.84929013e-01, 1.00000000e+00],\n",
       "         [3.03237647e-01, 7.48797894e-01, 8.85802031e-01, 1.00000000e+00],\n",
       "         [4.35831249e-01, 6.20442867e-01, 9.90564764e-01, 1.00000000e+00],\n",
       "         [0.00000000e+00, 7.45125413e-01, 5.32852471e-01, 1.00000000e+00],\n",
       "         [5.68749785e-01, 4.52607810e-01, 1.00000000e+00, 8.52100790e-01],\n",
       "         [5.71177602e-01, 5.52387774e-01, 1.00000000e+00, 9.52278912e-01],\n",
       "         [5.68332195e-01, 3.52538407e-01, 1.00000000e+00, 7.52102554e-01],\n",
       "         [5.68488359e-01, 2.52515763e-01, 1.00000000e+00, 6.52108431e-01],\n",
       "         [5.69120765e-01, 1.52434409e-01, 1.00000000e+00, 5.52142680e-01],\n",
       "         [5.68854153e-01, 5.23855984e-02, 1.00000000e+00, 4.52104777e-01],\n",
       "         [0.00000000e+00, 0.00000000e+00, 5.20028651e-01, 2.67970026e-01],\n",
       "         [0.00000000e+00, 3.46286535e-01, 3.63945246e-01, 7.50738144e-01],\n",
       "         [0.00000000e+00, 1.46002844e-01, 3.64836514e-01, 5.50613999e-01],\n",
       "         [2.24421561e-01, 4.79122549e-02, 7.85989344e-01, 4.55302358e-01],\n",
       "         [0.00000000e+00, 5.46313643e-01, 3.65092427e-01, 9.50096726e-01],\n",
       "         [2.82364517e-01, 0.00000000e+00, 8.51955295e-01, 3.65424395e-01],\n",
       "         [2.24347889e-01, 2.47767493e-01, 7.85903871e-01, 6.55135751e-01],\n",
       "         [5.32478988e-02, 0.00000000e+00, 5.96463799e-01, 3.63191247e-01],\n",
       "         [2.24053055e-01, 4.48228002e-01, 7.86127806e-01, 8.55365396e-01],\n",
       "         [1.21491343e-01, 0.00000000e+00, 6.82571411e-01, 3.75284135e-01],\n",
       "         [4.80194449e-01, 0.00000000e+00, 1.00000000e+00, 3.65763187e-01],\n",
       "         [3.93413574e-01, 0.00000000e+00, 9.71684694e-01, 2.54780322e-01],\n",
       "         [1.94023252e-01, 0.00000000e+00, 7.71924376e-01, 2.55014271e-01],\n",
       "         [5.06748557e-02, 6.28928363e-01, 5.87102234e-01, 1.00000000e+00],\n",
       "         [5.90041757e-01, 0.00000000e+00, 1.00000000e+00, 2.53248543e-01],\n",
       "         [6.26628757e-01, 0.00000000e+00, 1.00000000e+00, 3.68307531e-01],\n",
       "         [6.38286948e-01, 6.19260073e-01, 1.00000000e+00, 1.00000000e+00],\n",
       "         [4.31680113e-01, 6.26668572e-01, 9.59867477e-01, 1.00000000e+00],\n",
       "         [0.00000000e+00, 6.33695602e-01, 4.42066669e-01, 1.00000000e+00],\n",
       "         [2.31734425e-01, 6.26753867e-01, 7.60127068e-01, 1.00000000e+00],\n",
       "         [2.31512815e-01, 0.00000000e+00, 7.74550200e-01, 3.64251077e-01],\n",
       "         [5.29676795e-01, 0.00000000e+00, 1.00000000e+00, 3.62819016e-01],\n",
       "         [4.43634689e-02, 4.51912820e-01, 5.89422464e-01, 8.43444169e-01],\n",
       "         [4.36347723e-02, 3.51891100e-01, 5.89421630e-01, 7.43153036e-01],\n",
       "         [4.38251495e-02, 2.51906157e-01, 5.89645803e-01, 6.43131912e-01],\n",
       "         [4.41269279e-02, 1.51965171e-01, 5.90102077e-01, 5.43041825e-01],\n",
       "         [0.00000000e+00, 2.18614936e-04, 4.63452578e-01, 3.96069348e-01],\n",
       "         [0.00000000e+00, 0.00000000e+00, 3.32064211e-01, 3.77837509e-01],\n",
       "         [4.15836632e-01, 4.95582819e-02, 9.55753624e-01, 4.46466982e-01],\n",
       "         [5.12722015e-01, 3.49669456e-01, 1.00000000e+00, 7.46399283e-01],\n",
       "         [5.12826800e-01, 2.49648511e-01, 1.00000000e+00, 6.46400154e-01],\n",
       "         [5.14258742e-01, 5.49836874e-01, 1.00000000e+00, 9.46612239e-01],\n",
       "         [5.13577580e-01, 1.49520025e-01, 1.00000000e+00, 5.46407819e-01],\n",
       "         [3.18120360e-01, 5.49292088e-01, 8.57541442e-01, 9.46554422e-01],\n",
       "         [1.15463048e-01, 4.97167856e-02, 6.55853987e-01, 4.46556091e-01],\n",
       "         [4.16102111e-01, 4.49519932e-01, 9.55998480e-01, 8.46399963e-01],\n",
       "         [3.16571474e-01, 3.49207789e-01, 8.55855465e-01, 7.46475220e-01],\n",
       "         [3.16572309e-01, 2.49187082e-01, 8.55867386e-01, 6.46473885e-01],\n",
       "         [1.15912944e-01, 5.49681127e-01, 6.56790972e-01, 9.46621478e-01],\n",
       "         [3.17234457e-01, 1.49044916e-01, 8.56176198e-01, 5.46472430e-01],\n",
       "         [2.15773553e-01, 4.49614972e-01, 7.56053448e-01, 8.46488833e-01],\n",
       "         [0.00000000e+00, 5.55896163e-01, 5.12630641e-01, 9.43048239e-01],\n",
       "         [4.93557751e-02, 7.54081130e-01, 5.97605228e-01, 1.00000000e+00],\n",
       "         [0.00000000e+00, 0.00000000e+00, 5.29173732e-01, 3.68729293e-01],\n",
       "         [4.92674112e-02, 0.00000000e+00, 5.96494138e-01, 2.44989827e-01],\n",
       "         [4.41687018e-01, 7.51741946e-01, 9.88743663e-01, 1.00000000e+00],\n",
       "         [2.41858661e-01, 7.51716435e-01, 7.88857639e-01, 1.00000000e+00],\n",
       "         [6.15981102e-01, 5.19060344e-02, 1.00000000e+00, 4.46852088e-01],\n",
       "         [6.15358233e-01, 4.51866984e-01, 1.00000000e+00, 8.46874833e-01],\n",
       "         [6.32327020e-01, 6.28710270e-01, 1.00000000e+00, 1.00000000e+00],\n",
       "         [0.00000000e+00, 0.00000000e+00, 3.97351623e-01, 3.74046743e-01],\n",
       "         [0.00000000e+00, 0.00000000e+00, 3.46410155e-01, 2.51064032e-01],\n",
       "         [6.43529773e-01, 7.43413091e-01, 1.00000000e+00, 1.00000000e+00],\n",
       "         [4.36855704e-01, 0.00000000e+00, 9.68534112e-01, 2.48714536e-01],\n",
       "         [2.36998260e-01, 0.00000000e+00, 7.68939793e-01, 2.48945013e-01],\n",
       "         [0.00000000e+00, 3.61030638e-01, 4.44680393e-01, 7.56353557e-01],\n",
       "         [0.00000000e+00, 2.61031061e-01, 4.45275605e-01, 6.56434536e-01],\n",
       "         [0.00000000e+00, 4.60951775e-01, 4.45059270e-01, 8.56690288e-01],\n",
       "         [0.00000000e+00, 1.60809398e-01, 4.46055114e-01, 5.56302130e-01],\n",
       "         [6.36111856e-01, 0.00000000e+00, 1.00000000e+00, 2.48209953e-01],\n",
       "         [0.00000000e+00, 5.55776596e-01, 3.25195044e-01, 9.46058512e-01],\n",
       "         [0.00000000e+00, 7.46548057e-01, 3.61265868e-01, 1.00000000e+00],\n",
       "         [0.00000000e+00, 0.00000000e+00, 4.70060140e-01, 2.53158391e-01],\n",
       "         [6.42425537e-01, 7.51918256e-01, 1.00000000e+00, 1.00000000e+00],\n",
       "         [0.00000000e+00, 7.62461841e-01, 4.38748538e-01, 1.00000000e+00],\n",
       "         [0.00000000e+00, 2.56298423e-01, 3.24875534e-01, 6.45982325e-01],\n",
       "         [0.00000000e+00, 4.56105649e-01, 3.24621975e-01, 8.45987737e-01],\n",
       "         [0.00000000e+00, 5.84926158e-02, 3.26646835e-01, 4.48502064e-01],\n",
       "         [0.00000000e+00, 0.00000000e+00, 3.02312970e-01, 2.46100634e-01],\n",
       "         [0.00000000e+00, 6.34574175e-01, 3.17405760e-01, 1.00000000e+00],\n",
       "         [3.12553167e-01, 0.00000000e+00, 1.00000000e+00, 9.25594151e-01],\n",
       "         [2.38280892e-01, 0.00000000e+00, 1.00000000e+00, 1.00000000e+00],\n",
       "         [6.83416009e-01, 0.00000000e+00, 1.00000000e+00, 1.00000000e+00]]],\n",
       "       dtype=float32)>,\n",
       " 'detection_scores': <tf.Tensor: shape=(1, 100), dtype=float32, numpy=\n",
       " array([[0.11047361, 0.10686   , 0.10678996, 0.10675246, 0.1067376 ,\n",
       "         0.10672778, 0.10671075, 0.10669655, 0.10655971, 0.10653073,\n",
       "         0.10651791, 0.10645775, 0.10610271, 0.10557443, 0.10490975,\n",
       "         0.10469932, 0.10434989, 0.10300467, 0.10292458, 0.10237355,\n",
       "         0.10078783, 0.10055534, 0.10049446, 0.10040367, 0.1003961 ,\n",
       "         0.10036647, 0.10032171, 0.0994119 , 0.09916068, 0.09892703,\n",
       "         0.09873983, 0.09861874, 0.09856013, 0.09838862, 0.09831333,\n",
       "         0.09823339, 0.09822983, 0.09730081, 0.09641746, 0.09587254,\n",
       "         0.09544113, 0.09515441, 0.09445154, 0.09334397, 0.09324255,\n",
       "         0.09304771, 0.09294377, 0.09267453, 0.09215128, 0.09173624,\n",
       "         0.09164343, 0.09154209, 0.09132737, 0.09056412, 0.08955734,\n",
       "         0.08951667, 0.08950499, 0.08948963, 0.08945403, 0.08943501,\n",
       "         0.08934971, 0.08931784, 0.08931062, 0.08928465, 0.08928351,\n",
       "         0.0892446 , 0.08924084, 0.0890697 , 0.0888432 , 0.08803333,\n",
       "         0.08769161, 0.08731639, 0.08632885, 0.08602978, 0.08564664,\n",
       "         0.08547568, 0.08540806, 0.08524688, 0.08506915, 0.08472019,\n",
       "         0.08458497, 0.08442037, 0.08430969, 0.08423907, 0.08416399,\n",
       "         0.08413861, 0.08384772, 0.08349647, 0.08089593, 0.07781093,\n",
       "         0.07716302, 0.07652652, 0.07122979, 0.07101749, 0.06993563,\n",
       "         0.06946997, 0.06026323, 0.04389675, 0.03296896, 0.03058391]],\n",
       "       dtype=float32)>,\n",
       " 'detection_classes': <tf.Tensor: shape=(1, 100), dtype=float32, numpy=\n",
       " array([[1., 1., 1., 1., 1., 1., 1., 1., 1., 1., 1., 1., 1., 1., 1., 1.,\n",
       "         1., 1., 1., 1., 1., 1., 1., 1., 1., 1., 1., 1., 1., 1., 1., 1.,\n",
       "         1., 1., 2., 1., 1., 1., 1., 1., 2., 1., 1., 1., 2., 2., 2., 2.,\n",
       "         2., 2., 2., 2., 2., 2., 2., 2., 2., 2., 2., 2., 2., 2., 2., 2.,\n",
       "         2., 2., 2., 2., 2., 2., 1., 2., 2., 2., 2., 2., 2., 1., 1., 1.,\n",
       "         2., 2., 2., 2., 2., 2., 2., 2., 1., 2., 2., 2., 1., 1., 1., 2.,\n",
       "         1., 1., 1., 1.]], dtype=float32)>,\n",
       " 'num_detections': <tf.Tensor: shape=(1,), dtype=float32, numpy=array([100.], dtype=float32)>,\n",
       " 'raw_detection_boxes': <tf.Tensor: shape=(1, 12804, 4), dtype=float32, numpy=\n",
       " array([[[-0.06574942, -0.03164195,  0.08195984,  0.05795471],\n",
       "         [-0.068351  , -0.04077197,  0.08283371,  0.06389637],\n",
       "         [-0.03910453, -0.04507107,  0.06499013,  0.07417842],\n",
       "         ...,\n",
       "         [-0.09785634, -0.5802816 ,  1.6002192 ,  1.6974496 ],\n",
       "         [ 0.23828089, -0.04414111,  2.34907   ,  1.6550779 ],\n",
       "         [ 0.32456094, -0.04629952,  2.3223422 ,  1.5263779 ]]],\n",
       "       dtype=float32)>,\n",
       " 'raw_detection_scores': <tf.Tensor: shape=(1, 12804, 4), dtype=float32, numpy=\n",
       " array([[[1.3888970e-03, 1.4301124e-03, 1.5521449e-03, 9.0526948e-05],\n",
       "         [1.7176176e-03, 1.3935587e-03, 7.2277169e-04, 1.5855858e-09],\n",
       "         [1.0531093e-03, 1.5134102e-03, 2.7030667e-03, 3.0085493e-03],\n",
       "         ...,\n",
       "         [3.8802722e-03, 4.6751839e-03, 4.2042616e-03, 5.8987332e-03],\n",
       "         [2.0343696e-05, 1.0084283e-02, 3.2968961e-02, 1.3986163e-02],\n",
       "         [2.5930146e-03, 8.4208016e-11, 9.7718753e-04, 2.4215303e-02]]],\n",
       "       dtype=float32)>,\n",
       " 'detection_multiclass_scores': <tf.Tensor: shape=(1, 100, 4), dtype=float32, numpy=\n",
       " array([[[7.48689333e-03, 7.80368829e-03, 1.10473610e-01, 8.25622305e-02],\n",
       "         [8.25625472e-03, 9.28312726e-03, 1.06859997e-01, 8.23352560e-02],\n",
       "         [8.25577136e-03, 9.14018787e-03, 1.06789961e-01, 8.19891542e-02],\n",
       "         [8.25267192e-03, 9.25884955e-03, 1.06752455e-01, 8.20227861e-02],\n",
       "         [8.25350638e-03, 9.25967190e-03, 1.06737599e-01, 8.20295215e-02],\n",
       "         [8.24802089e-03, 9.22780577e-03, 1.06727779e-01, 8.19110051e-02],\n",
       "         [8.28493107e-03, 9.21386573e-03, 1.06710754e-01, 8.24068561e-02],\n",
       "         [8.27899389e-03, 9.33573209e-03, 1.06696546e-01, 8.26830491e-02],\n",
       "         [8.24754126e-03, 9.13421251e-03, 1.06559709e-01, 8.17487165e-02],\n",
       "         [8.24841950e-03, 9.13002342e-03, 1.06530726e-01, 8.17201510e-02],\n",
       "         [8.23855679e-03, 9.09896102e-03, 1.06517911e-01, 8.16670433e-02],\n",
       "         [8.25844612e-03, 9.20950528e-03, 1.06457755e-01, 8.19299743e-02],\n",
       "         [8.24994501e-03, 9.09389742e-03, 1.06102712e-01, 8.17144066e-02],\n",
       "         [7.84933567e-03, 7.95691181e-03, 1.05574429e-01, 8.15154389e-02],\n",
       "         [7.82147143e-03, 7.90340547e-03, 1.04909748e-01, 8.10103565e-02],\n",
       "         [8.10798351e-03, 9.06952005e-03, 1.04699321e-01, 8.26566741e-02],\n",
       "         [7.81287998e-03, 7.79343490e-03, 1.04349889e-01, 8.06345940e-02],\n",
       "         [8.74452107e-03, 9.28302109e-03, 1.03004672e-01, 8.13795403e-02],\n",
       "         [8.74421839e-03, 9.29358322e-03, 1.02924578e-01, 8.14594254e-02],\n",
       "         [9.14397277e-03, 8.48219823e-03, 1.02373548e-01, 7.04839081e-02],\n",
       "         [8.51455051e-03, 8.76157451e-03, 1.00787833e-01, 8.11481178e-02],\n",
       "         [8.33500084e-03, 7.70049915e-03, 1.00555338e-01, 7.62587935e-02],\n",
       "         [8.34971201e-03, 7.74036022e-03, 1.00494459e-01, 7.66346604e-02],\n",
       "         [8.33556894e-03, 7.66965188e-03, 1.00403674e-01, 7.59610012e-02],\n",
       "         [8.33485648e-03, 7.66842859e-03, 1.00396097e-01, 7.59602636e-02],\n",
       "         [8.32982454e-03, 7.66386138e-03, 1.00366473e-01, 7.59486482e-02],\n",
       "         [8.32681172e-03, 7.66966632e-03, 1.00321710e-01, 7.59908482e-02],\n",
       "         [8.55872221e-03, 8.69024079e-03, 9.94119048e-02, 6.11138642e-02],\n",
       "         [8.11662432e-03, 7.03310920e-03, 9.91606787e-02, 7.53669813e-02],\n",
       "         [8.13667662e-03, 6.99894875e-03, 9.89270285e-02, 7.51921535e-02],\n",
       "         [8.79105926e-03, 8.72770138e-03, 9.87398252e-02, 6.24657087e-02],\n",
       "         [8.08038935e-03, 6.91959122e-03, 9.86187384e-02, 7.51515105e-02],\n",
       "         [7.94415083e-03, 8.46815761e-03, 9.85601321e-02, 8.00068676e-02],\n",
       "         [8.77550431e-03, 8.71338509e-03, 9.83886197e-02, 6.22723959e-02],\n",
       "         [7.47296587e-03, 8.18963256e-03, 8.61532912e-02, 9.83133316e-02],\n",
       "         [8.78630392e-03, 8.70051142e-03, 9.82333943e-02, 6.19258359e-02],\n",
       "         [8.58371146e-03, 8.24970659e-03, 9.82298255e-02, 6.41231015e-02],\n",
       "         [7.92302936e-03, 8.19330569e-03, 9.73008052e-02, 7.94098526e-02],\n",
       "         [7.97641836e-03, 7.36997230e-03, 9.64174569e-02, 7.76218921e-02],\n",
       "         [7.95865059e-03, 7.33153522e-03, 9.58725363e-02, 7.75790885e-02],\n",
       "         [7.44367577e-03, 8.38452484e-03, 9.17884409e-02, 9.54411253e-02],\n",
       "         [8.04461818e-03, 7.01734843e-03, 9.51544121e-02, 7.39093572e-02],\n",
       "         [8.20987578e-03, 7.84111489e-03, 9.44515392e-02, 5.26340120e-02],\n",
       "         [8.65190011e-03, 7.90901575e-03, 9.33439732e-02, 5.47147170e-02],\n",
       "         [9.60436184e-03, 8.66796728e-03, 8.77660960e-02, 9.32425484e-02],\n",
       "         [7.18893297e-03, 8.68512411e-03, 8.85775238e-02, 9.30477083e-02],\n",
       "         [9.54619888e-03, 8.65234528e-03, 8.73714238e-02, 9.29437652e-02],\n",
       "         [7.78836710e-03, 8.33339430e-03, 8.17964152e-02, 9.26745310e-02],\n",
       "         [7.78555963e-03, 8.41234904e-03, 8.08018968e-02, 9.21512842e-02],\n",
       "         [7.70057971e-03, 8.12204182e-03, 9.18364078e-02, 9.17362422e-02],\n",
       "         [7.69492285e-03, 8.14255886e-03, 9.18161124e-02, 9.16434303e-02],\n",
       "         [7.69252330e-03, 8.14042892e-03, 9.17970464e-02, 9.15420875e-02],\n",
       "         [7.68943084e-03, 8.13936256e-03, 9.17180777e-02, 9.13273692e-02],\n",
       "         [7.35762622e-03, 8.35301727e-03, 7.89860487e-02, 9.05641168e-02],\n",
       "         [7.18270801e-03, 8.83657392e-03, 5.88497370e-02, 8.95573422e-02],\n",
       "         [9.11707431e-03, 8.39155633e-03, 8.53473097e-02, 8.95166695e-02],\n",
       "         [8.95173941e-03, 8.34746193e-03, 8.35229307e-02, 8.95049945e-02],\n",
       "         [8.94864742e-03, 8.34562629e-03, 8.35227370e-02, 8.94896314e-02],\n",
       "         [8.99091549e-03, 8.31396598e-03, 8.54111761e-02, 8.94540250e-02],\n",
       "         [8.93451273e-03, 8.33814684e-03, 8.35531130e-02, 8.94350111e-02],\n",
       "         [9.05860681e-03, 8.37289169e-03, 8.61441121e-02, 8.93497095e-02],\n",
       "         [9.05704033e-03, 8.36168788e-03, 8.50048736e-02, 8.93178359e-02],\n",
       "         [9.06929653e-03, 8.38057324e-03, 8.56581181e-02, 8.93106163e-02],\n",
       "         [9.05671902e-03, 8.36745370e-03, 8.52224603e-02, 8.92846510e-02],\n",
       "         [9.05553717e-03, 8.36664345e-03, 8.52388293e-02, 8.92835110e-02],\n",
       "         [9.02314018e-03, 8.35336093e-03, 8.60189870e-02, 8.92446041e-02],\n",
       "         [9.03377123e-03, 8.36003944e-03, 8.51318911e-02, 8.92408416e-02],\n",
       "         [8.98980349e-03, 8.35124403e-03, 8.52682516e-02, 8.90697017e-02],\n",
       "         [7.68704014e-03, 8.02556518e-03, 9.27868113e-02, 8.88432041e-02],\n",
       "         [8.29811022e-03, 8.06977041e-03, 8.90512094e-02, 8.80333260e-02],\n",
       "         [7.39023602e-03, 8.04138463e-03, 8.76916051e-02, 9.65958834e-02],\n",
       "         [7.72698969e-03, 8.36360920e-03, 8.16782266e-02, 8.73163864e-02],\n",
       "         [8.47316068e-03, 8.11337586e-03, 8.74450430e-02, 8.63288492e-02],\n",
       "         [8.48169718e-03, 8.11829790e-03, 8.71637911e-02, 8.60297754e-02],\n",
       "         [8.30243155e-03, 8.35910719e-03, 7.84621686e-02, 8.56466368e-02],\n",
       "         [8.28194991e-03, 8.35112669e-03, 7.87499323e-02, 8.54756758e-02],\n",
       "         [8.61750823e-03, 8.55355430e-03, 7.70859644e-02, 8.54080617e-02],\n",
       "         [7.04889791e-03, 6.31075120e-03, 8.52468833e-02, 6.97744116e-02],\n",
       "         [7.47749861e-03, 6.12116884e-03, 8.50691497e-02, 7.05830380e-02],\n",
       "         [8.48466903e-03, 8.64113029e-03, 8.47201869e-02, 4.86991666e-02],\n",
       "         [8.19273666e-03, 7.74551509e-03, 7.70210549e-02, 8.45849738e-02],\n",
       "         [8.18852242e-03, 7.70630175e-03, 7.64100775e-02, 8.44203681e-02],\n",
       "         [7.62109878e-03, 8.33186600e-03, 8.70997310e-02, 8.43096897e-02],\n",
       "         [7.60860927e-03, 8.33852217e-03, 8.68762806e-02, 8.42390731e-02],\n",
       "         [7.61973159e-03, 8.32353625e-03, 8.73480141e-02, 8.41639861e-02],\n",
       "         [7.59164477e-03, 8.34726077e-03, 8.64878371e-02, 8.41386095e-02],\n",
       "         [7.86666293e-03, 7.88570661e-03, 7.48555511e-02, 8.38477165e-02],\n",
       "         [7.54639460e-03, 8.89828335e-03, 7.03519434e-02, 8.34964737e-02],\n",
       "         [8.32418259e-03, 6.15012646e-03, 8.08959305e-02, 6.66897967e-02],\n",
       "         [7.70271430e-03, 7.02128373e-03, 9.74598080e-02, 7.78109282e-02],\n",
       "         [7.96823855e-03, 8.42523854e-03, 7.24814609e-02, 7.71630183e-02],\n",
       "         [7.86069594e-03, 8.34349170e-03, 7.33907372e-02, 7.65265226e-02],\n",
       "         [7.64207961e-03, 8.89457483e-03, 7.12297931e-02, 8.37388486e-02],\n",
       "         [7.61999842e-03, 8.87816586e-03, 7.10174888e-02, 8.39407146e-02],\n",
       "         [7.55407661e-03, 8.89568962e-03, 6.99356347e-02, 8.35943371e-02],\n",
       "         [8.20131507e-03, 7.21544633e-03, 5.14213964e-02, 6.94699660e-02],\n",
       "         [8.75219889e-03, 8.24773312e-03, 6.02632314e-02, 8.31901282e-02],\n",
       "         [1.26368628e-04, 8.86831619e-03, 4.38967533e-02, 9.25977249e-03],\n",
       "         [2.03436957e-05, 1.00842826e-02, 3.29689607e-02, 1.39861628e-02],\n",
       "         [3.19905848e-06, 8.29965156e-03, 3.05839144e-02, 6.58599567e-03]]],\n",
       "       dtype=float32)>,\n",
       " 'detection_anchor_indices': <tf.Tensor: shape=(1, 100), dtype=int32, numpy=\n",
       " array([[12113, 12461, 12281, 12449, 12455, 12443, 12287, 12467, 12269,\n",
       "         12275, 12263, 12437, 12257, 12101, 12089, 12353, 12077, 12299,\n",
       "         12419, 12469, 12179, 12581, 12587, 12575, 12569, 12563, 12557,\n",
       "         12121, 12035, 12023, 12313, 12047, 12371, 12325, 12190, 12337,\n",
       "         12247, 12491, 12425, 12305, 12232, 12545, 12547, 12589, 12468,\n",
       "         12112, 12348, 12310, 12490, 12220, 12214, 12208, 12202, 12070,\n",
       "         12010, 12432, 12510, 12504, 12522, 12498, 12402, 12252, 12456,\n",
       "         12390, 12384, 12282, 12378, 12336, 12166, 12238, 12130, 12184,\n",
       "         12478, 12358, 12552, 12576, 12588, 12011, 12005, 12595, 12420,\n",
       "         12300, 12094, 12088, 12100, 12082, 12540, 12046, 12059, 12065,\n",
       "         12598, 12118, 12028, 12040, 12016, 12000, 12048, 12790, 12802,\n",
       "         12796]], dtype=int32)>}"
      ]
     },
     "execution_count": 34,
     "metadata": {},
     "output_type": "execute_result"
    }
   ],
   "source": [
    "detections = detect_fn(input_tensor)\n",
    "detections"
   ]
  },
  {
   "cell_type": "code",
   "execution_count": 16,
   "metadata": {},
   "outputs": [],
   "source": [
    "from matplotlib import pyplot as plt"
   ]
  },
  {
   "cell_type": "code",
   "execution_count": null,
   "metadata": {},
   "outputs": [],
   "source": [
    "print(\"\"\"python {}/research/object_detection/exporter_main_v2.py --input_type=image_tensor --pipeline_config_path={}/{}/pipeline.config --trained_checkpoint_dir={} --output_directory={}export\"\"\".format(APIMODEL_PATH, MODEL_PATH, CUSTOM_MODEL_NAME,CHECKPOINT_PATH, CHECKPOINT_PATH))\n"
   ]
  },
  {
   "cell_type": "code",
   "execution_count": null,
   "metadata": {},
   "outputs": [],
   "source": [
    "!pip install tensorflowjs\n"
   ]
  },
  {
   "cell_type": "code",
   "execution_count": null,
   "metadata": {},
   "outputs": [],
   "source": [
    "\"\"\"tensorflowjs_converter --input_format=tf_saved_model --output_node_names='detection_boxes,detection_classes,detection_features,detection_multiclass_scores,detection_scores,num_detections,raw_detection_boxes,raw_detection_scores' --output_format=tfjs_graph_model --signature_name=serving_default {}export/saved_model {}converted\"\"\".format(CHECKPOINT_PATH, CHECKPOINT_PATH)\n"
   ]
  }
 ],
 "metadata": {
  "kernelspec": {
   "display_name": "lastest",
   "language": "python",
   "name": "dependency"
  },
  "language_info": {
   "codemirror_mode": {
    "name": "ipython",
    "version": 3
   },
   "file_extension": ".py",
   "mimetype": "text/x-python",
   "name": "python",
   "nbconvert_exporter": "python",
   "pygments_lexer": "ipython3",
   "version": "3.11.4"
  },
  "vscode": {
   "interpreter": {
    "hash": "7e532848faa3b4ba2426ddf1ea1a9b268a231417ee38c5f14a4b95900f749e4b"
   }
  }
 },
 "nbformat": 4,
 "nbformat_minor": 2
}
